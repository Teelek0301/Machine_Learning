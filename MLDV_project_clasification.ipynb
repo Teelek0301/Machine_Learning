{
 "cells": [
  {
   "cell_type": "markdown",
   "id": "e7bdda6b",
   "metadata": {},
   "source": [
    "# This is my MLDV project, i will be doing clasification and it will be predicting the category that customers bought from, I have included the original data csv files in the folder and got it from: https://www.kaggle.com/datasets/dataceo/sales-and-customer-data/data"
   ]
  },
  {
   "cell_type": "markdown",
   "id": "6c7f73f8",
   "metadata": {},
   "source": [
    "# Importing the necessary libaries\n",
    "### pandas (To present the data in a structured manner)\n",
    "### numpy (To perform the necessary mathamatical and numerical operations)\n",
    "### matplotlib ( To visualise the data as charts )"
   ]
  },
  {
   "cell_type": "code",
   "execution_count": 1,
   "id": "40558fec",
   "metadata": {},
   "outputs": [],
   "source": [
    "import pandas as pd\n",
    "import numpy as np\n",
    "import matplotlib.pyplot as plt"
   ]
  },
  {
   "cell_type": "code",
   "execution_count": 2,
   "id": "ef1a9155",
   "metadata": {},
   "outputs": [],
   "source": [
    "customer_data=pd.read_csv(\"customer_data.csv\")\n",
    "sales_data = pd.read_csv(\"sales_data.csv\")"
   ]
  },
  {
   "cell_type": "markdown",
   "id": "0b457796",
   "metadata": {},
   "source": [
    "## Exploratory Data Analysis"
   ]
  },
  {
   "cell_type": "code",
   "execution_count": 3,
   "id": "9ff1d1be",
   "metadata": {},
   "outputs": [
    {
     "data": {
      "text/html": [
       "<div>\n",
       "<style scoped>\n",
       "    .dataframe tbody tr th:only-of-type {\n",
       "        vertical-align: middle;\n",
       "    }\n",
       "\n",
       "    .dataframe tbody tr th {\n",
       "        vertical-align: top;\n",
       "    }\n",
       "\n",
       "    .dataframe thead th {\n",
       "        text-align: right;\n",
       "    }\n",
       "</style>\n",
       "<table border=\"1\" class=\"dataframe\">\n",
       "  <thead>\n",
       "    <tr style=\"text-align: right;\">\n",
       "      <th></th>\n",
       "      <th>customer_id</th>\n",
       "      <th>gender</th>\n",
       "      <th>age</th>\n",
       "      <th>payment_method</th>\n",
       "    </tr>\n",
       "  </thead>\n",
       "  <tbody>\n",
       "    <tr>\n",
       "      <th>0</th>\n",
       "      <td>C241288</td>\n",
       "      <td>Female</td>\n",
       "      <td>28.0</td>\n",
       "      <td>Credit Card</td>\n",
       "    </tr>\n",
       "    <tr>\n",
       "      <th>1</th>\n",
       "      <td>C111565</td>\n",
       "      <td>Male</td>\n",
       "      <td>21.0</td>\n",
       "      <td>Debit Card</td>\n",
       "    </tr>\n",
       "    <tr>\n",
       "      <th>2</th>\n",
       "      <td>C266599</td>\n",
       "      <td>Male</td>\n",
       "      <td>20.0</td>\n",
       "      <td>Cash</td>\n",
       "    </tr>\n",
       "    <tr>\n",
       "      <th>3</th>\n",
       "      <td>C988172</td>\n",
       "      <td>Female</td>\n",
       "      <td>66.0</td>\n",
       "      <td>Credit Card</td>\n",
       "    </tr>\n",
       "    <tr>\n",
       "      <th>4</th>\n",
       "      <td>C189076</td>\n",
       "      <td>Female</td>\n",
       "      <td>53.0</td>\n",
       "      <td>Cash</td>\n",
       "    </tr>\n",
       "  </tbody>\n",
       "</table>\n",
       "</div>"
      ],
      "text/plain": [
       "  customer_id  gender   age payment_method\n",
       "0     C241288  Female  28.0    Credit Card\n",
       "1     C111565    Male  21.0     Debit Card\n",
       "2     C266599    Male  20.0           Cash\n",
       "3     C988172  Female  66.0    Credit Card\n",
       "4     C189076  Female  53.0           Cash"
      ]
     },
     "execution_count": 3,
     "metadata": {},
     "output_type": "execute_result"
    }
   ],
   "source": [
    "customer_data.head()"
   ]
  },
  {
   "cell_type": "code",
   "execution_count": 4,
   "id": "b5ebc4df",
   "metadata": {
    "scrolled": false
   },
   "outputs": [
    {
     "data": {
      "text/html": [
       "<div>\n",
       "<style scoped>\n",
       "    .dataframe tbody tr th:only-of-type {\n",
       "        vertical-align: middle;\n",
       "    }\n",
       "\n",
       "    .dataframe tbody tr th {\n",
       "        vertical-align: top;\n",
       "    }\n",
       "\n",
       "    .dataframe thead th {\n",
       "        text-align: right;\n",
       "    }\n",
       "</style>\n",
       "<table border=\"1\" class=\"dataframe\">\n",
       "  <thead>\n",
       "    <tr style=\"text-align: right;\">\n",
       "      <th></th>\n",
       "      <th>invoice_no</th>\n",
       "      <th>customer_id</th>\n",
       "      <th>category</th>\n",
       "      <th>quantity</th>\n",
       "      <th>price</th>\n",
       "      <th>invoice_date</th>\n",
       "      <th>shopping_mall</th>\n",
       "    </tr>\n",
       "  </thead>\n",
       "  <tbody>\n",
       "    <tr>\n",
       "      <th>0</th>\n",
       "      <td>I138884</td>\n",
       "      <td>C241288</td>\n",
       "      <td>Clothing</td>\n",
       "      <td>5</td>\n",
       "      <td>1500.40</td>\n",
       "      <td>05-08-2022</td>\n",
       "      <td>Kanyon</td>\n",
       "    </tr>\n",
       "    <tr>\n",
       "      <th>1</th>\n",
       "      <td>I317333</td>\n",
       "      <td>C111565</td>\n",
       "      <td>Shoes</td>\n",
       "      <td>3</td>\n",
       "      <td>1800.51</td>\n",
       "      <td>12-12-2021</td>\n",
       "      <td>Forum Istanbul</td>\n",
       "    </tr>\n",
       "    <tr>\n",
       "      <th>2</th>\n",
       "      <td>I127801</td>\n",
       "      <td>C266599</td>\n",
       "      <td>Clothing</td>\n",
       "      <td>1</td>\n",
       "      <td>300.08</td>\n",
       "      <td>09-11-2021</td>\n",
       "      <td>Metrocity</td>\n",
       "    </tr>\n",
       "    <tr>\n",
       "      <th>3</th>\n",
       "      <td>I173702</td>\n",
       "      <td>C988172</td>\n",
       "      <td>Shoes</td>\n",
       "      <td>5</td>\n",
       "      <td>3000.85</td>\n",
       "      <td>16-05-2021</td>\n",
       "      <td>Metropol AVM</td>\n",
       "    </tr>\n",
       "    <tr>\n",
       "      <th>4</th>\n",
       "      <td>I337046</td>\n",
       "      <td>C189076</td>\n",
       "      <td>Books</td>\n",
       "      <td>4</td>\n",
       "      <td>60.60</td>\n",
       "      <td>24-10-2021</td>\n",
       "      <td>Kanyon</td>\n",
       "    </tr>\n",
       "  </tbody>\n",
       "</table>\n",
       "</div>"
      ],
      "text/plain": [
       "  invoice_no customer_id  category  quantity    price invoice_date  \\\n",
       "0    I138884     C241288  Clothing         5  1500.40   05-08-2022   \n",
       "1    I317333     C111565     Shoes         3  1800.51   12-12-2021   \n",
       "2    I127801     C266599  Clothing         1   300.08   09-11-2021   \n",
       "3    I173702     C988172     Shoes         5  3000.85   16-05-2021   \n",
       "4    I337046     C189076     Books         4    60.60   24-10-2021   \n",
       "\n",
       "    shopping_mall  \n",
       "0          Kanyon  \n",
       "1  Forum Istanbul  \n",
       "2       Metrocity  \n",
       "3    Metropol AVM  \n",
       "4          Kanyon  "
      ]
     },
     "execution_count": 4,
     "metadata": {},
     "output_type": "execute_result"
    }
   ],
   "source": [
    "sales_data.head()"
   ]
  },
  {
   "cell_type": "code",
   "execution_count": 5,
   "id": "1031831a",
   "metadata": {},
   "outputs": [
    {
     "data": {
      "text/plain": [
       "(99457, 4)"
      ]
     },
     "execution_count": 5,
     "metadata": {},
     "output_type": "execute_result"
    }
   ],
   "source": [
    "customer_data.shape\n"
   ]
  },
  {
   "cell_type": "code",
   "execution_count": 6,
   "id": "c66ee903",
   "metadata": {
    "scrolled": true
   },
   "outputs": [
    {
     "data": {
      "text/plain": [
       "(99457, 7)"
      ]
     },
     "execution_count": 6,
     "metadata": {},
     "output_type": "execute_result"
    }
   ],
   "source": [
    "sales_data.shape"
   ]
  },
  {
   "cell_type": "markdown",
   "id": "49bd8c34",
   "metadata": {},
   "source": [
    "#### This is to make sure that there is no missing rows when merging"
   ]
  },
  {
   "cell_type": "code",
   "execution_count": 7,
   "id": "b07d1b9b",
   "metadata": {},
   "outputs": [],
   "source": [
    "merged_data = pd.merge(customer_data,sales_data , on='customer_id') #merged the 2 data sets"
   ]
  },
  {
   "cell_type": "code",
   "execution_count": 8,
   "id": "309c307a",
   "metadata": {},
   "outputs": [
    {
     "data": {
      "text/html": [
       "<div>\n",
       "<style scoped>\n",
       "    .dataframe tbody tr th:only-of-type {\n",
       "        vertical-align: middle;\n",
       "    }\n",
       "\n",
       "    .dataframe tbody tr th {\n",
       "        vertical-align: top;\n",
       "    }\n",
       "\n",
       "    .dataframe thead th {\n",
       "        text-align: right;\n",
       "    }\n",
       "</style>\n",
       "<table border=\"1\" class=\"dataframe\">\n",
       "  <thead>\n",
       "    <tr style=\"text-align: right;\">\n",
       "      <th></th>\n",
       "      <th>customer_id</th>\n",
       "      <th>gender</th>\n",
       "      <th>age</th>\n",
       "      <th>payment_method</th>\n",
       "      <th>invoice_no</th>\n",
       "      <th>category</th>\n",
       "      <th>quantity</th>\n",
       "      <th>price</th>\n",
       "      <th>invoice_date</th>\n",
       "      <th>shopping_mall</th>\n",
       "    </tr>\n",
       "  </thead>\n",
       "  <tbody>\n",
       "    <tr>\n",
       "      <th>0</th>\n",
       "      <td>C241288</td>\n",
       "      <td>Female</td>\n",
       "      <td>28.0</td>\n",
       "      <td>Credit Card</td>\n",
       "      <td>I138884</td>\n",
       "      <td>Clothing</td>\n",
       "      <td>5</td>\n",
       "      <td>1500.40</td>\n",
       "      <td>05-08-2022</td>\n",
       "      <td>Kanyon</td>\n",
       "    </tr>\n",
       "    <tr>\n",
       "      <th>1</th>\n",
       "      <td>C111565</td>\n",
       "      <td>Male</td>\n",
       "      <td>21.0</td>\n",
       "      <td>Debit Card</td>\n",
       "      <td>I317333</td>\n",
       "      <td>Shoes</td>\n",
       "      <td>3</td>\n",
       "      <td>1800.51</td>\n",
       "      <td>12-12-2021</td>\n",
       "      <td>Forum Istanbul</td>\n",
       "    </tr>\n",
       "    <tr>\n",
       "      <th>2</th>\n",
       "      <td>C266599</td>\n",
       "      <td>Male</td>\n",
       "      <td>20.0</td>\n",
       "      <td>Cash</td>\n",
       "      <td>I127801</td>\n",
       "      <td>Clothing</td>\n",
       "      <td>1</td>\n",
       "      <td>300.08</td>\n",
       "      <td>09-11-2021</td>\n",
       "      <td>Metrocity</td>\n",
       "    </tr>\n",
       "    <tr>\n",
       "      <th>3</th>\n",
       "      <td>C988172</td>\n",
       "      <td>Female</td>\n",
       "      <td>66.0</td>\n",
       "      <td>Credit Card</td>\n",
       "      <td>I173702</td>\n",
       "      <td>Shoes</td>\n",
       "      <td>5</td>\n",
       "      <td>3000.85</td>\n",
       "      <td>16-05-2021</td>\n",
       "      <td>Metropol AVM</td>\n",
       "    </tr>\n",
       "    <tr>\n",
       "      <th>4</th>\n",
       "      <td>C189076</td>\n",
       "      <td>Female</td>\n",
       "      <td>53.0</td>\n",
       "      <td>Cash</td>\n",
       "      <td>I337046</td>\n",
       "      <td>Books</td>\n",
       "      <td>4</td>\n",
       "      <td>60.60</td>\n",
       "      <td>24-10-2021</td>\n",
       "      <td>Kanyon</td>\n",
       "    </tr>\n",
       "  </tbody>\n",
       "</table>\n",
       "</div>"
      ],
      "text/plain": [
       "  customer_id  gender   age payment_method invoice_no  category  quantity  \\\n",
       "0     C241288  Female  28.0    Credit Card    I138884  Clothing         5   \n",
       "1     C111565    Male  21.0     Debit Card    I317333     Shoes         3   \n",
       "2     C266599    Male  20.0           Cash    I127801  Clothing         1   \n",
       "3     C988172  Female  66.0    Credit Card    I173702     Shoes         5   \n",
       "4     C189076  Female  53.0           Cash    I337046     Books         4   \n",
       "\n",
       "     price invoice_date   shopping_mall  \n",
       "0  1500.40   05-08-2022          Kanyon  \n",
       "1  1800.51   12-12-2021  Forum Istanbul  \n",
       "2   300.08   09-11-2021       Metrocity  \n",
       "3  3000.85   16-05-2021    Metropol AVM  \n",
       "4    60.60   24-10-2021          Kanyon  "
      ]
     },
     "execution_count": 8,
     "metadata": {},
     "output_type": "execute_result"
    }
   ],
   "source": [
    "merged_data.head()"
   ]
  },
  {
   "cell_type": "code",
   "execution_count": 9,
   "id": "39fd64cc",
   "metadata": {},
   "outputs": [
    {
     "data": {
      "text/plain": [
       "(99457, 10)"
      ]
     },
     "execution_count": 9,
     "metadata": {},
     "output_type": "execute_result"
    }
   ],
   "source": [
    "merged_data.shape # to check if there is any missing number of rows"
   ]
  },
  {
   "cell_type": "code",
   "execution_count": 10,
   "id": "7d1f0f81",
   "metadata": {},
   "outputs": [
    {
     "data": {
      "text/plain": [
       "['customer_id',\n",
       " 'gender',\n",
       " 'age',\n",
       " 'payment_method',\n",
       " 'invoice_no',\n",
       " 'category',\n",
       " 'quantity',\n",
       " 'price',\n",
       " 'invoice_date',\n",
       " 'shopping_mall']"
      ]
     },
     "execution_count": 10,
     "metadata": {},
     "output_type": "execute_result"
    }
   ],
   "source": [
    "list(merged_data.columns)"
   ]
  },
  {
   "cell_type": "code",
   "execution_count": 11,
   "id": "57e4407e",
   "metadata": {},
   "outputs": [
    {
     "name": "stdout",
     "output_type": "stream",
     "text": [
      "customer_id        object\n",
      "gender             object\n",
      "age               float64\n",
      "payment_method     object\n",
      "invoice_no         object\n",
      "category           object\n",
      "quantity            int64\n",
      "price             float64\n",
      "invoice_date       object\n",
      "shopping_mall      object\n",
      "dtype: object\n"
     ]
    }
   ],
   "source": [
    "\n",
    "print(merged_data.dtypes)"
   ]
  },
  {
   "cell_type": "code",
   "execution_count": 12,
   "id": "7a15c421",
   "metadata": {
    "scrolled": true
   },
   "outputs": [
    {
     "name": "stdout",
     "output_type": "stream",
     "text": [
      "<class 'pandas.core.frame.DataFrame'>\n",
      "RangeIndex: 99457 entries, 0 to 99456\n",
      "Data columns (total 10 columns):\n",
      " #   Column          Non-Null Count  Dtype  \n",
      "---  ------          --------------  -----  \n",
      " 0   customer_id     99457 non-null  object \n",
      " 1   gender          99457 non-null  object \n",
      " 2   age             99338 non-null  float64\n",
      " 3   payment_method  99457 non-null  object \n",
      " 4   invoice_no      99457 non-null  object \n",
      " 5   category        99457 non-null  object \n",
      " 6   quantity        99457 non-null  int64  \n",
      " 7   price           99457 non-null  float64\n",
      " 8   invoice_date    99457 non-null  object \n",
      " 9   shopping_mall   99457 non-null  object \n",
      "dtypes: float64(2), int64(1), object(7)\n",
      "memory usage: 7.6+ MB\n",
      "None\n"
     ]
    }
   ],
   "source": [
    "print(merged_data.info())"
   ]
  },
  {
   "cell_type": "code",
   "execution_count": 13,
   "id": "ca5eade5",
   "metadata": {
    "scrolled": false
   },
   "outputs": [
    {
     "data": {
      "text/plain": [
       "customer_id       99457\n",
       "gender                2\n",
       "age                  52\n",
       "payment_method        3\n",
       "invoice_no        99457\n",
       "category              8\n",
       "quantity              5\n",
       "price                40\n",
       "invoice_date        797\n",
       "shopping_mall        10\n",
       "dtype: int64"
      ]
     },
     "execution_count": 13,
     "metadata": {},
     "output_type": "execute_result"
    }
   ],
   "source": [
    "merged_data.nunique()"
   ]
  },
  {
   "cell_type": "markdown",
   "id": "3e062388",
   "metadata": {},
   "source": [
    "### Summary #1, what have i learnt so far:\n",
    "#### - total number of rows is 99457\n",
    "#### - total number of columns is 10\n",
    "#### - age is the only coumn with missing values\n",
    "#### - customer_id and invoice_no are identifier columns"
   ]
  },
  {
   "cell_type": "code",
   "execution_count": 14,
   "id": "4e85b557",
   "metadata": {
    "scrolled": false
   },
   "outputs": [
    {
     "data": {
      "text/plain": [
       "shopping_mall\n",
       "Cevahir AVM           4991\n",
       "Emaar Square Mall     4811\n",
       "Forum Istanbul        4947\n",
       "Istinye Park          9781\n",
       "Kanyon               19823\n",
       "Mall of Istanbul     19943\n",
       "Metrocity            15011\n",
       "Metropol AVM         10161\n",
       "Viaport Outlet        4914\n",
       "Zorlu Center          5075\n",
       "dtype: int64"
      ]
     },
     "execution_count": 14,
     "metadata": {},
     "output_type": "execute_result"
    }
   ],
   "source": [
    "merged_data_shopping_mall = merged_data.groupby('shopping_mall').size()\n",
    "merged_data_shopping_mall"
   ]
  },
  {
   "cell_type": "code",
   "execution_count": 15,
   "id": "8c254fdd",
   "metadata": {
    "scrolled": true
   },
   "outputs": [
    {
     "data": {
      "text/plain": [
       "price\n",
       "5.23       3002\n",
       "10.46      2909\n",
       "11.73      1024\n",
       "15.15       985\n",
       "15.69      2992\n",
       "20.92      2884\n",
       "23.46       984\n",
       "26.15      2989\n",
       "30.30      1008\n",
       "35.19      1077\n",
       "35.84      2000\n",
       "40.66      2986\n",
       "45.45      1000\n",
       "46.92       922\n",
       "58.65       992\n",
       "60.60       959\n",
       "71.68      1958\n",
       "75.75      1029\n",
       "81.32      2974\n",
       "107.52     2082\n",
       "121.98     3072\n",
       "143.36     2076\n",
       "162.64     3010\n",
       "179.20     1971\n",
       "203.30     3055\n",
       "300.08     6841\n",
       "600.16     6950\n",
       "600.17     1944\n",
       "900.24     6907\n",
       "1050.00     985\n",
       "1200.32    6849\n",
       "1200.34    2045\n",
       "1500.40    6940\n",
       "1800.51    2010\n",
       "2100.00    1000\n",
       "2400.68    2022\n",
       "3000.85    2013\n",
       "3150.00    1009\n",
       "4200.00    1001\n",
       "5250.00    1001\n",
       "dtype: int64"
      ]
     },
     "execution_count": 15,
     "metadata": {},
     "output_type": "execute_result"
    }
   ],
   "source": [
    "merged_data_price = merged_data.groupby('price').size()\n",
    "merged_data_price"
   ]
  },
  {
   "cell_type": "code",
   "execution_count": 16,
   "id": "4b0f82d2",
   "metadata": {},
   "outputs": [],
   "source": [
    "merged_data_price = {\n",
    "    'price': [5.23, 10.46, 11.73, 15.15, 15.69, 20.92, 23.46, 26.15, 30.30, 35.19, \n",
    "              35.84, 40.66, 45.45, 46.92, 58.65, 60.60, 71.68, 75.75, 81.32, 107.52,\n",
    "              121.98, 143.36, 162.64, 179.20, 203.30, 300.08, 600.16, 600.17, 900.24,\n",
    "              1050.00, 1200.32, 1200.34, 1500.40, 1800.51, 2100.00, 2400.68, 3000.85,\n",
    "              3150.00, 4200.00, 5250.00],\n",
    "    'count': [3002, 2909, 1024, 985, 2992, 2884, 984, 2989, 1008, 1077,\n",
    "              2000, 2986, 1000, 922, 992, 959, 1958, 1029, 2974, 2082,\n",
    "              3072, 2076, 3010, 1971, 3055, 6841, 6950, 1944, 6907, 985,\n",
    "              6849, 2045, 6940, 2010, 1000, 2022, 2013, 1009, 1001, 1001]\n",
    "}"
   ]
  },
  {
   "cell_type": "code",
   "execution_count": 17,
   "id": "f92e81a1",
   "metadata": {},
   "outputs": [
    {
     "data": {
      "text/html": [
       "<div>\n",
       "<style scoped>\n",
       "    .dataframe tbody tr th:only-of-type {\n",
       "        vertical-align: middle;\n",
       "    }\n",
       "\n",
       "    .dataframe tbody tr th {\n",
       "        vertical-align: top;\n",
       "    }\n",
       "\n",
       "    .dataframe thead th {\n",
       "        text-align: right;\n",
       "    }\n",
       "</style>\n",
       "<table border=\"1\" class=\"dataframe\">\n",
       "  <thead>\n",
       "    <tr style=\"text-align: right;\">\n",
       "      <th></th>\n",
       "      <th>price</th>\n",
       "      <th>count</th>\n",
       "    </tr>\n",
       "  </thead>\n",
       "  <tbody>\n",
       "    <tr>\n",
       "      <th>0</th>\n",
       "      <td>5.23</td>\n",
       "      <td>3002</td>\n",
       "    </tr>\n",
       "    <tr>\n",
       "      <th>1</th>\n",
       "      <td>10.46</td>\n",
       "      <td>2909</td>\n",
       "    </tr>\n",
       "    <tr>\n",
       "      <th>2</th>\n",
       "      <td>11.73</td>\n",
       "      <td>1024</td>\n",
       "    </tr>\n",
       "    <tr>\n",
       "      <th>3</th>\n",
       "      <td>15.15</td>\n",
       "      <td>985</td>\n",
       "    </tr>\n",
       "    <tr>\n",
       "      <th>4</th>\n",
       "      <td>15.69</td>\n",
       "      <td>2992</td>\n",
       "    </tr>\n",
       "    <tr>\n",
       "      <th>5</th>\n",
       "      <td>20.92</td>\n",
       "      <td>2884</td>\n",
       "    </tr>\n",
       "    <tr>\n",
       "      <th>6</th>\n",
       "      <td>23.46</td>\n",
       "      <td>984</td>\n",
       "    </tr>\n",
       "    <tr>\n",
       "      <th>7</th>\n",
       "      <td>26.15</td>\n",
       "      <td>2989</td>\n",
       "    </tr>\n",
       "    <tr>\n",
       "      <th>8</th>\n",
       "      <td>30.30</td>\n",
       "      <td>1008</td>\n",
       "    </tr>\n",
       "    <tr>\n",
       "      <th>9</th>\n",
       "      <td>35.19</td>\n",
       "      <td>1077</td>\n",
       "    </tr>\n",
       "    <tr>\n",
       "      <th>10</th>\n",
       "      <td>35.84</td>\n",
       "      <td>2000</td>\n",
       "    </tr>\n",
       "    <tr>\n",
       "      <th>11</th>\n",
       "      <td>40.66</td>\n",
       "      <td>2986</td>\n",
       "    </tr>\n",
       "    <tr>\n",
       "      <th>12</th>\n",
       "      <td>45.45</td>\n",
       "      <td>1000</td>\n",
       "    </tr>\n",
       "    <tr>\n",
       "      <th>13</th>\n",
       "      <td>46.92</td>\n",
       "      <td>922</td>\n",
       "    </tr>\n",
       "    <tr>\n",
       "      <th>14</th>\n",
       "      <td>58.65</td>\n",
       "      <td>992</td>\n",
       "    </tr>\n",
       "    <tr>\n",
       "      <th>15</th>\n",
       "      <td>60.60</td>\n",
       "      <td>959</td>\n",
       "    </tr>\n",
       "    <tr>\n",
       "      <th>16</th>\n",
       "      <td>71.68</td>\n",
       "      <td>1958</td>\n",
       "    </tr>\n",
       "    <tr>\n",
       "      <th>17</th>\n",
       "      <td>75.75</td>\n",
       "      <td>1029</td>\n",
       "    </tr>\n",
       "    <tr>\n",
       "      <th>18</th>\n",
       "      <td>81.32</td>\n",
       "      <td>2974</td>\n",
       "    </tr>\n",
       "    <tr>\n",
       "      <th>19</th>\n",
       "      <td>107.52</td>\n",
       "      <td>2082</td>\n",
       "    </tr>\n",
       "    <tr>\n",
       "      <th>20</th>\n",
       "      <td>121.98</td>\n",
       "      <td>3072</td>\n",
       "    </tr>\n",
       "    <tr>\n",
       "      <th>21</th>\n",
       "      <td>143.36</td>\n",
       "      <td>2076</td>\n",
       "    </tr>\n",
       "    <tr>\n",
       "      <th>22</th>\n",
       "      <td>162.64</td>\n",
       "      <td>3010</td>\n",
       "    </tr>\n",
       "    <tr>\n",
       "      <th>23</th>\n",
       "      <td>179.20</td>\n",
       "      <td>1971</td>\n",
       "    </tr>\n",
       "    <tr>\n",
       "      <th>24</th>\n",
       "      <td>203.30</td>\n",
       "      <td>3055</td>\n",
       "    </tr>\n",
       "    <tr>\n",
       "      <th>25</th>\n",
       "      <td>300.08</td>\n",
       "      <td>6841</td>\n",
       "    </tr>\n",
       "    <tr>\n",
       "      <th>26</th>\n",
       "      <td>600.16</td>\n",
       "      <td>6950</td>\n",
       "    </tr>\n",
       "    <tr>\n",
       "      <th>27</th>\n",
       "      <td>600.17</td>\n",
       "      <td>1944</td>\n",
       "    </tr>\n",
       "    <tr>\n",
       "      <th>28</th>\n",
       "      <td>900.24</td>\n",
       "      <td>6907</td>\n",
       "    </tr>\n",
       "    <tr>\n",
       "      <th>29</th>\n",
       "      <td>1050.00</td>\n",
       "      <td>985</td>\n",
       "    </tr>\n",
       "    <tr>\n",
       "      <th>30</th>\n",
       "      <td>1200.32</td>\n",
       "      <td>6849</td>\n",
       "    </tr>\n",
       "    <tr>\n",
       "      <th>31</th>\n",
       "      <td>1200.34</td>\n",
       "      <td>2045</td>\n",
       "    </tr>\n",
       "    <tr>\n",
       "      <th>32</th>\n",
       "      <td>1500.40</td>\n",
       "      <td>6940</td>\n",
       "    </tr>\n",
       "    <tr>\n",
       "      <th>33</th>\n",
       "      <td>1800.51</td>\n",
       "      <td>2010</td>\n",
       "    </tr>\n",
       "    <tr>\n",
       "      <th>34</th>\n",
       "      <td>2100.00</td>\n",
       "      <td>1000</td>\n",
       "    </tr>\n",
       "    <tr>\n",
       "      <th>35</th>\n",
       "      <td>2400.68</td>\n",
       "      <td>2022</td>\n",
       "    </tr>\n",
       "    <tr>\n",
       "      <th>36</th>\n",
       "      <td>3000.85</td>\n",
       "      <td>2013</td>\n",
       "    </tr>\n",
       "    <tr>\n",
       "      <th>37</th>\n",
       "      <td>3150.00</td>\n",
       "      <td>1009</td>\n",
       "    </tr>\n",
       "    <tr>\n",
       "      <th>38</th>\n",
       "      <td>4200.00</td>\n",
       "      <td>1001</td>\n",
       "    </tr>\n",
       "    <tr>\n",
       "      <th>39</th>\n",
       "      <td>5250.00</td>\n",
       "      <td>1001</td>\n",
       "    </tr>\n",
       "  </tbody>\n",
       "</table>\n",
       "</div>"
      ],
      "text/plain": [
       "      price  count\n",
       "0      5.23   3002\n",
       "1     10.46   2909\n",
       "2     11.73   1024\n",
       "3     15.15    985\n",
       "4     15.69   2992\n",
       "5     20.92   2884\n",
       "6     23.46    984\n",
       "7     26.15   2989\n",
       "8     30.30   1008\n",
       "9     35.19   1077\n",
       "10    35.84   2000\n",
       "11    40.66   2986\n",
       "12    45.45   1000\n",
       "13    46.92    922\n",
       "14    58.65    992\n",
       "15    60.60    959\n",
       "16    71.68   1958\n",
       "17    75.75   1029\n",
       "18    81.32   2974\n",
       "19   107.52   2082\n",
       "20   121.98   3072\n",
       "21   143.36   2076\n",
       "22   162.64   3010\n",
       "23   179.20   1971\n",
       "24   203.30   3055\n",
       "25   300.08   6841\n",
       "26   600.16   6950\n",
       "27   600.17   1944\n",
       "28   900.24   6907\n",
       "29  1050.00    985\n",
       "30  1200.32   6849\n",
       "31  1200.34   2045\n",
       "32  1500.40   6940\n",
       "33  1800.51   2010\n",
       "34  2100.00   1000\n",
       "35  2400.68   2022\n",
       "36  3000.85   2013\n",
       "37  3150.00   1009\n",
       "38  4200.00   1001\n",
       "39  5250.00   1001"
      ]
     },
     "execution_count": 17,
     "metadata": {},
     "output_type": "execute_result"
    }
   ],
   "source": [
    "merged_data_price = pd.DataFrame(merged_data_price)\n",
    "merged_data_price"
   ]
  },
  {
   "cell_type": "code",
   "execution_count": 18,
   "id": "e24821bc",
   "metadata": {
    "scrolled": false
   },
   "outputs": [
    {
     "data": {
      "image/png": "[encoded data removed]",
      "text/plain": [
       "<Figure size 640x480 with 1 Axes>"
      ]
     },
     "metadata": {},
     "output_type": "display_data"
    }
   ],
   "source": [
    "merged_data_price.plot(x='price', y='count', kind='bar')\n",
    "\n",
    "plt.title('Frequency of the amount spent')\n",
    "plt.xlabel('Price')\n",
    "plt.ylabel('Count')\n",
    "plt.show()\n"
   ]
  },
  {
   "cell_type": "markdown",
   "id": "dd2350bd",
   "metadata": {},
   "source": [
    "### From this graph, i can tell that the data for price is right skewed, cleaning to make it even may be needed, but as i am predicting the category that customers bought from, i may not want to make much changes to this column as price is an important aspect based on domain knowledge"
   ]
  },
  {
   "cell_type": "code",
   "execution_count": 19,
   "id": "c8cb097c",
   "metadata": {
    "scrolled": true
   },
   "outputs": [],
   "source": [
    "merged_data_age = merged_data.groupby('age').size"
   ]
  },
  {
   "cell_type": "code",
   "execution_count": 20,
   "id": "88368f07",
   "metadata": {},
   "outputs": [],
   "source": [
    "merged_data_age = {\n",
    "    'age': [18.0, 19.0, 20.0, 21.0, 22.0, 23.0, 24.0, 25.0, 26.0, 27.0,\n",
    "            28.0, 29.0, 30.0, 31.0, 32.0, 33.0, 34.0, 35.0, 36.0, 37.0,\n",
    "            38.0, 39.0, 40.0, 41.0, 42.0, 43.0, 44.0, 45.0, 46.0, 47.0,\n",
    "            48.0, 49.0, 50.0, 51.0, 52.0, 53.0, 54.0, 55.0, 56.0, 57.0,\n",
    "            58.0, 59.0, 60.0, 61.0, 62.0, 63.0, 64.0, 65.0, 66.0, 67.0,\n",
    "            68.0, 69.0],\n",
    "    'count': [1843, 1930, 1844, 1945, 2050, 1895, 1977, 1859, 1894, 1948,\n",
    "              1951, 1881, 1978, 1862, 1891, 1908, 1881, 1840, 1952, 2056,\n",
    "              1953, 1946, 1956, 1886, 1890, 1999, 1901, 1875, 1910, 1877,\n",
    "              1953, 1882, 1871, 1989, 1943, 1902, 1829, 1842, 1914, 1877,\n",
    "              1871, 1869, 1871, 1941, 1909, 1885, 2002, 1854, 1875, 1899,\n",
    "              1885, 1897]\n",
    "}"
   ]
  },
  {
   "cell_type": "code",
   "execution_count": 21,
   "id": "ae1694b4",
   "metadata": {},
   "outputs": [],
   "source": [
    "merged_data_age = pd.DataFrame(merged_data_age)\n"
   ]
  },
  {
   "cell_type": "code",
   "execution_count": 22,
   "id": "19ab8287",
   "metadata": {},
   "outputs": [
    {
     "data": {
      "image/png": "[encoded data removed]",
      "text/plain": [
       "<Figure size 640x480 with 1 Axes>"
      ]
     },
     "metadata": {},
     "output_type": "display_data"
    }
   ],
   "source": [
    "merged_data_age.plot(x='age', y='count', kind='bar')\n",
    "\n",
    "plt.title('Freqeuncy of Age')\n",
    "plt.xlabel('age')\n",
    "plt.ylabel('Count')\n",
    "plt.show()"
   ]
  },
  {
   "cell_type": "markdown",
   "id": "df1e5b6f",
   "metadata": {},
   "source": [
    "### From this graph, i can tell that the age is evenly distributed, only cleaning needed is to replace the missing values"
   ]
  },
  {
   "cell_type": "code",
   "execution_count": 23,
   "id": "1586fbe5",
   "metadata": {},
   "outputs": [
    {
     "data": {
      "text/plain": [
       "quantity\n",
       "1    19767\n",
       "2    19828\n",
       "3    20149\n",
       "4    19723\n",
       "5    19990\n",
       "dtype: int64"
      ]
     },
     "execution_count": 23,
     "metadata": {},
     "output_type": "execute_result"
    }
   ],
   "source": [
    "merged_data_quantity = merged_data.groupby('quantity').size()\n",
    "merged_data_quantity  # checking for invalid or negative value data"
   ]
  },
  {
   "cell_type": "code",
   "execution_count": 24,
   "id": "78222dbd",
   "metadata": {},
   "outputs": [],
   "source": [
    "colors = ['red', 'green', 'blue', 'orange', 'purple', 'cyan', 'magenta', 'yellow']"
   ]
  },
  {
   "cell_type": "code",
   "execution_count": 25,
   "id": "c9865b16",
   "metadata": {},
   "outputs": [
    {
     "data": {
      "text/plain": [
       "payment_method\n",
       "Cash           44447\n",
       "Credit Card    34931\n",
       "Debit Card     20079\n",
       "dtype: int64"
      ]
     },
     "execution_count": 25,
     "metadata": {},
     "output_type": "execute_result"
    }
   ],
   "source": [
    "merged_data_payment_method = merged_data.groupby('payment_method').size()\n",
    "merged_data_payment_method"
   ]
  },
  {
   "cell_type": "code",
   "execution_count": 26,
   "id": "33c6aeaf",
   "metadata": {},
   "outputs": [],
   "source": [
    "payment_method = ['Cash','Credit Card','Debit Card']\n",
    "payment_method_count =[ 44447, 34931, 20079]"
   ]
  },
  {
   "cell_type": "code",
   "execution_count": 27,
   "id": "4bad55d7",
   "metadata": {},
   "outputs": [
    {
     "data": {
      "image/png": "[encoded data removed]",
      "text/plain": [
       "<Figure size 640x480 with 1 Axes>"
      ]
     },
     "metadata": {},
     "output_type": "display_data"
    }
   ],
   "source": [
    "plt.pie(payment_method_count, labels=payment_method, colors=colors,  autopct='%1.1f%%',  startangle=140)\n",
    "plt.title('Payment Methods')\n",
    "plt.show()"
   ]
  },
  {
   "cell_type": "markdown",
   "id": "4c45f309",
   "metadata": {},
   "source": [
    "#### from this pie chart, the majority of transaction are through cash and the distribution of data would still be acceptable"
   ]
  },
  {
   "cell_type": "code",
   "execution_count": 28,
   "id": "0f18cf21",
   "metadata": {},
   "outputs": [
    {
     "data": {
      "text/plain": [
       "gender\n",
       "Female    59482\n",
       "Male      39975\n",
       "dtype: int64"
      ]
     },
     "execution_count": 28,
     "metadata": {},
     "output_type": "execute_result"
    }
   ],
   "source": [
    "merged_data_gender = merged_data.groupby('gender').size()\n",
    "merged_data_gender"
   ]
  },
  {
   "cell_type": "code",
   "execution_count": 29,
   "id": "fe134a21",
   "metadata": {},
   "outputs": [],
   "source": [
    "gender = ['Male', 'Female']\n",
    "gender_counts = [59482, 39975]"
   ]
  },
  {
   "cell_type": "code",
   "execution_count": 30,
   "id": "249bb687",
   "metadata": {},
   "outputs": [
    {
     "data": {
      "image/png": "[encoded data removed]",
      "text/plain": [
       "<Figure size 640x480 with 1 Axes>"
      ]
     },
     "metadata": {},
     "output_type": "display_data"
    }
   ],
   "source": [
    "plt.pie(gender_counts, labels=gender, colors=colors,  autopct='%1.1f%%',  startangle=140)\n",
    "plt.title('Gender')\n",
    "plt.show()"
   ]
  },
  {
   "cell_type": "markdown",
   "id": "dc1a9c16",
   "metadata": {},
   "source": [
    "#### from this pie chart, the distribution of data for gender is acceptable, the chances for machine bias will be low "
   ]
  },
  {
   "cell_type": "code",
   "execution_count": 31,
   "id": "69221663",
   "metadata": {
    "scrolled": true
   },
   "outputs": [
    {
     "data": {
      "text/plain": [
       "category\n",
       "Books               4981\n",
       "Clothing           34487\n",
       "Cosmetics          15097\n",
       "Food & Beverage    14776\n",
       "Shoes              10034\n",
       "Souvenir            4999\n",
       "Technology          4996\n",
       "Toys               10087\n",
       "dtype: int64"
      ]
     },
     "execution_count": 31,
     "metadata": {},
     "output_type": "execute_result"
    }
   ],
   "source": [
    "merged_data_category = merged_data.groupby('category').size()\n",
    "merged_data_category\n"
   ]
  },
  {
   "cell_type": "code",
   "execution_count": 32,
   "id": "a84a50e0",
   "metadata": {},
   "outputs": [],
   "source": [
    "\n",
    "categories = [\"Books\", \"Clothing\", \"Cosmetics\", \"Food & Beverage\", \"Shoes\", \"Souvenir\", \"Technology\", \"Toys\"]\n",
    "category_counts = [4981, 34487, 15097, 14776, 10034, 4999, 4996, 10087]\n",
    "\n"
   ]
  },
  {
   "cell_type": "code",
   "execution_count": 33,
   "id": "9d7a7486",
   "metadata": {},
   "outputs": [
    {
     "data": {
      "image/png": "[encoded data removed]",
      "text/plain": [
       "<Figure size 640x480 with 1 Axes>"
      ]
     },
     "metadata": {},
     "output_type": "display_data"
    }
   ],
   "source": [
    "plt.pie(category_counts, labels=categories, colors=colors,  autopct='%1.1f%%',  startangle=140)\n",
    "plt.title('Categories')\n",
    "plt.show()"
   ]
  },
  {
   "cell_type": "markdown",
   "id": "5d3bb2b2",
   "metadata": {},
   "source": [
    "#### from this pie chart, i can tell that the majority of category is on clothing"
   ]
  },
  {
   "cell_type": "markdown",
   "id": "89c6e862",
   "metadata": {},
   "source": [
    "## summary of exploratory data analysis\n",
    "#### There is a total of 99457 rows and 10 columns\n",
    "#### The customer_id and invoice_no are identifier columns are they have 99457 unique values\n",
    "#### The gender columns contains two values, male and female and the distribuition is quite even at 59.8% males and 40.2% females\n",
    "#### The age columns contains 51 unique values and the spread of data is evenly distributed, with some missing values\n",
    "#### The payment_method column is the type of payment used to complete the transactions and the distribution is not very even but still acceptable\n",
    "#### Category column is the type of category that the item that the customer purchased from, majority of the data is from clothing\n",
    "#### The quantity column is how much items the customer bought, the data is evenly distributed\n",
    "#### The price column is how mcuh the customer spends, the data distribution for price is right skewed\n",
    "#### The invoice_date column is when the customer bought the items\n",
    "#### the shopping_mall column is where the customer bought yhe items from"
   ]
  },
  {
   "cell_type": "markdown",
   "id": "5bd5bd12",
   "metadata": {},
   "source": [
    "# Data cleaning and feature engineering\n"
   ]
  },
  {
   "cell_type": "markdown",
   "id": "5a368214",
   "metadata": {},
   "source": [
    "# Before doing any cleaning, i will take out a few rows of columns and store it in a csv file in order to test my algorithm in the later stages"
   ]
  },
  {
   "cell_type": "code",
   "execution_count": 34,
   "id": "f0c0a6df",
   "metadata": {},
   "outputs": [],
   "source": [
    "testing_data = merged_data.sample(n=20, random_state=21)\n",
    "testing_data.to_csv('testing_data', index=False)"
   ]
  },
  {
   "cell_type": "code",
   "execution_count": 35,
   "id": "692494c5",
   "metadata": {},
   "outputs": [],
   "source": [
    "merged_data = merged_data.drop(testing_data.index) # droppping the rows i removed to prevent data leakage"
   ]
  },
  {
   "cell_type": "code",
   "execution_count": 36,
   "id": "0fc523f9",
   "metadata": {},
   "outputs": [
    {
     "name": "stdout",
     "output_type": "stream",
     "text": [
      "<class 'pandas.core.frame.DataFrame'>\n",
      "Index: 99437 entries, 0 to 99456\n",
      "Data columns (total 10 columns):\n",
      " #   Column          Non-Null Count  Dtype  \n",
      "---  ------          --------------  -----  \n",
      " 0   customer_id     99437 non-null  object \n",
      " 1   gender          99437 non-null  object \n",
      " 2   age             99318 non-null  float64\n",
      " 3   payment_method  99437 non-null  object \n",
      " 4   invoice_no      99437 non-null  object \n",
      " 5   category        99437 non-null  object \n",
      " 6   quantity        99437 non-null  int64  \n",
      " 7   price           99437 non-null  float64\n",
      " 8   invoice_date    99437 non-null  object \n",
      " 9   shopping_mall   99437 non-null  object \n",
      "dtypes: float64(2), int64(1), object(7)\n",
      "memory usage: 8.3+ MB\n",
      "None\n"
     ]
    }
   ],
   "source": [
    "print(merged_data.info()) # you can see that the total number of rows dropped to 99437 from 99457"
   ]
  },
  {
   "cell_type": "markdown",
   "id": "ec9b0c8c",
   "metadata": {},
   "source": [
    "## First i will replace the missing values in the age column with the mean age"
   ]
  },
  {
   "cell_type": "code",
   "execution_count": 37,
   "id": "d357da05",
   "metadata": {
    "scrolled": true
   },
   "outputs": [
    {
     "name": "stdout",
     "output_type": "stream",
     "text": [
      "<class 'pandas.core.frame.DataFrame'>\n",
      "Index: 99437 entries, 0 to 99456\n",
      "Data columns (total 10 columns):\n",
      " #   Column          Non-Null Count  Dtype  \n",
      "---  ------          --------------  -----  \n",
      " 0   customer_id     99437 non-null  object \n",
      " 1   gender          99437 non-null  object \n",
      " 2   age             99437 non-null  float64\n",
      " 3   payment_method  99437 non-null  object \n",
      " 4   invoice_no      99437 non-null  object \n",
      " 5   category        99437 non-null  object \n",
      " 6   quantity        99437 non-null  int64  \n",
      " 7   price           99437 non-null  float64\n",
      " 8   invoice_date    99437 non-null  object \n",
      " 9   shopping_mall   99437 non-null  object \n",
      "dtypes: float64(2), int64(1), object(7)\n",
      "memory usage: 8.3+ MB\n",
      "None\n"
     ]
    }
   ],
   "source": [
    "merged_data['age'] = merged_data['age'].fillna(merged_data['age'].mean())\n",
    "print(merged_data.info()) "
   ]
  },
  {
   "cell_type": "markdown",
   "id": "6282ffaf",
   "metadata": {},
   "source": [
    "## Next i will bin the prices column to make the data more evenly distributed"
   ]
  },
  {
   "cell_type": "code",
   "execution_count": 38,
   "id": "c7cb599e",
   "metadata": {
    "scrolled": true
   },
   "outputs": [
    {
     "name": "stderr",
     "output_type": "stream",
     "text": [
      "C:\\Users\\Administrator\\AppData\\Local\\Temp\\ipykernel_8832\\2317761354.py:2: FutureWarning: The default of observed=False is deprecated and will be changed to True in a future version of pandas. Pass observed=False to retain current behavior or observed=True to adopt the future default and silence this warning.\n",
      "  merged_data_binned_price = merged_data.groupby('binned_price').size()\n"
     ]
    },
    {
     "data": {
      "text/plain": [
       "binned_price\n",
       "(5.229, 11.73]        6932\n",
       "(11.73, 20.92]        6860\n",
       "(20.92, 30.3]         4980\n",
       "(30.3, 45.45]         7060\n",
       "(45.45, 75.75]        5858\n",
       "(75.75, 121.98]       8126\n",
       "(121.98, 162.64]      5086\n",
       "(162.64, 203.3]       5026\n",
       "(203.3, 300.08]       6841\n",
       "(300.08, 600.16]      6948\n",
       "(600.16, 900.24]      8850\n",
       "(900.24, 1200.32]     7833\n",
       "(1200.32, 1200.34]    2044\n",
       "(1200.34, 1500.4]     6939\n",
       "(1500.4, 2400.68]     5031\n",
       "(2400.68, 5250.0]     5023\n",
       "dtype: int64"
      ]
     },
     "execution_count": 38,
     "metadata": {},
     "output_type": "execute_result"
    }
   ],
   "source": [
    "merged_data['binned_price'] = pd.qcut(merged_data['price'], q=16)\n",
    "merged_data_binned_price = merged_data.groupby('binned_price').size()\n",
    "\n",
    "merged_data_binned_price"
   ]
  },
  {
   "cell_type": "code",
   "execution_count": 39,
   "id": "89a4ef0f",
   "metadata": {},
   "outputs": [],
   "source": [
    "merged_data_binned_price = {\n",
    "    'binned_price': [[5.229, 11.73], [11.73, 20.92], [20.92, 30.3], [30.3, 45.45], [45.45, 75.75], [75.75, 121.98], [121.98, 162.64],\n",
    "                     [162.64, 203.3], [203.3, 300.08], [300.08, 600.16], [600.16, 900.24], [900.24, 1200.32], [1200.32, 1200.34],\n",
    "                     [1200.34, 1500.4], [1500.4, 2400.68], [2400.68, 5250.0]],\n",
    "    'count': [6935, 6861, 4981, 7063, 5860, 8128, 5086, 5026, 6841, 6950, 8851, 7834, 2045, 6940, 5032, 5024]\n",
    "}\n"
   ]
  },
  {
   "cell_type": "code",
   "execution_count": 40,
   "id": "0000a16a",
   "metadata": {},
   "outputs": [],
   "source": [
    "merged_data_binned_price = pd.DataFrame(merged_data_binned_price)"
   ]
  },
  {
   "cell_type": "code",
   "execution_count": 41,
   "id": "6c72f36e",
   "metadata": {},
   "outputs": [
    {
     "data": {
      "image/png": "[encoded data removed]",
      "text/plain": [
       "<Figure size 640x480 with 1 Axes>"
      ]
     },
     "metadata": {},
     "output_type": "display_data"
    }
   ],
   "source": [
    "merged_data_binned_price.plot(x='binned_price', y='count', kind='bar')\n",
    "\n",
    "plt.title('Frequency of the amount spent binned')\n",
    "plt.xlabel('Binned Price')\n",
    "plt.ylabel('Count')\n",
    "plt.show()"
   ]
  },
  {
   "cell_type": "markdown",
   "id": "af8abdd5",
   "metadata": {},
   "source": [
    "## The price is now more evenly distributed, the next steps would be to take the median of each bin and replace the binned values, this is done to improve the machine learning efficency"
   ]
  },
  {
   "cell_type": "code",
   "execution_count": 42,
   "id": "07dcefea",
   "metadata": {
    "scrolled": true
   },
   "outputs": [
    {
     "name": "stdout",
     "output_type": "stream",
     "text": [
      "<class 'pandas.core.frame.DataFrame'>\n",
      "Index: 99437 entries, 0 to 99456\n",
      "Data columns (total 11 columns):\n",
      " #   Column          Non-Null Count  Dtype   \n",
      "---  ------          --------------  -----   \n",
      " 0   customer_id     99437 non-null  object  \n",
      " 1   gender          99437 non-null  object  \n",
      " 2   age             99437 non-null  float64 \n",
      " 3   payment_method  99437 non-null  object  \n",
      " 4   invoice_no      99437 non-null  object  \n",
      " 5   category        99437 non-null  object  \n",
      " 6   quantity        99437 non-null  int64   \n",
      " 7   price           99437 non-null  float64 \n",
      " 8   invoice_date    99437 non-null  object  \n",
      " 9   shopping_mall   99437 non-null  object  \n",
      " 10  binned_price    99437 non-null  category\n",
      "dtypes: category(1), float64(2), int64(1), object(7)\n",
      "memory usage: 8.4+ MB\n",
      "None\n"
     ]
    }
   ],
   "source": [
    "print(merged_data.info()) # we now have a new column called binned_price"
   ]
  },
  {
   "cell_type": "code",
   "execution_count": 43,
   "id": "2d2d61f3",
   "metadata": {
    "scrolled": true
   },
   "outputs": [
    {
     "name": "stdout",
     "output_type": "stream",
     "text": [
      "      customer_id  gender   age payment_method invoice_no         category  \\\n",
      "0         C241288  Female  28.0    Credit Card    I138884         Clothing   \n",
      "1         C111565    Male  21.0     Debit Card    I317333            Shoes   \n",
      "2         C266599    Male  20.0           Cash    I127801         Clothing   \n",
      "3         C988172  Female  66.0    Credit Card    I173702            Shoes   \n",
      "4         C189076  Female  53.0           Cash    I337046            Books   \n",
      "...           ...     ...   ...            ...        ...              ...   \n",
      "99452     C441542  Female  45.0    Credit Card    I219422         Souvenir   \n",
      "99453     C569580    Male  27.0           Cash    I325143  Food & Beverage   \n",
      "99454     C103292    Male  63.0     Debit Card    I824010  Food & Beverage   \n",
      "99455     C800631    Male  56.0           Cash    I702964       Technology   \n",
      "99456     C273973  Female  36.0    Credit Card    I232867         Souvenir   \n",
      "\n",
      "       quantity    price invoice_date     shopping_mall       binned_price  \n",
      "0             5  1500.40   05-08-2022            Kanyon  (1200.34, 1500.4]  \n",
      "1             3  1800.51   12-12-2021    Forum Istanbul  (1500.4, 2400.68]  \n",
      "2             1   300.08   09-11-2021         Metrocity    (203.3, 300.08]  \n",
      "3             5  3000.85   16-05-2021      Metropol AVM  (2400.68, 5250.0]  \n",
      "4             4    60.60   24-10-2021            Kanyon     (45.45, 75.75]  \n",
      "...         ...      ...          ...               ...                ...  \n",
      "99452         5    58.65   21-09-2022            Kanyon     (45.45, 75.75]  \n",
      "99453         2    10.46   22-09-2021    Forum Istanbul     (5.229, 11.73]  \n",
      "99454         2    10.46   28-03-2021         Metrocity     (5.229, 11.73]  \n",
      "99455         4  4200.00   16-03-2021      Istinye Park  (2400.68, 5250.0]  \n",
      "99456         3    35.19   15-10-2022  Mall of Istanbul      (30.3, 45.45]  \n",
      "\n",
      "[99437 rows x 11 columns]\n"
     ]
    }
   ],
   "source": [
    "print(merged_data)"
   ]
  },
  {
   "cell_type": "code",
   "execution_count": 44,
   "id": "57ae9656",
   "metadata": {},
   "outputs": [
    {
     "data": {
      "text/html": [
       "<div>\n",
       "<style scoped>\n",
       "    .dataframe tbody tr th:only-of-type {\n",
       "        vertical-align: middle;\n",
       "    }\n",
       "\n",
       "    .dataframe tbody tr th {\n",
       "        vertical-align: top;\n",
       "    }\n",
       "\n",
       "    .dataframe thead th {\n",
       "        text-align: right;\n",
       "    }\n",
       "</style>\n",
       "<table border=\"1\" class=\"dataframe\">\n",
       "  <thead>\n",
       "    <tr style=\"text-align: right;\">\n",
       "      <th></th>\n",
       "      <th>binned_price</th>\n",
       "      <th>count</th>\n",
       "    </tr>\n",
       "  </thead>\n",
       "  <tbody>\n",
       "    <tr>\n",
       "      <th>0</th>\n",
       "      <td>[5.229, 11.73]</td>\n",
       "      <td>6935</td>\n",
       "    </tr>\n",
       "    <tr>\n",
       "      <th>1</th>\n",
       "      <td>[11.73, 20.92]</td>\n",
       "      <td>6861</td>\n",
       "    </tr>\n",
       "    <tr>\n",
       "      <th>2</th>\n",
       "      <td>[20.92, 30.3]</td>\n",
       "      <td>4981</td>\n",
       "    </tr>\n",
       "    <tr>\n",
       "      <th>3</th>\n",
       "      <td>[30.3, 45.45]</td>\n",
       "      <td>7063</td>\n",
       "    </tr>\n",
       "    <tr>\n",
       "      <th>4</th>\n",
       "      <td>[45.45, 75.75]</td>\n",
       "      <td>5860</td>\n",
       "    </tr>\n",
       "    <tr>\n",
       "      <th>5</th>\n",
       "      <td>[75.75, 121.98]</td>\n",
       "      <td>8128</td>\n",
       "    </tr>\n",
       "    <tr>\n",
       "      <th>6</th>\n",
       "      <td>[121.98, 162.64]</td>\n",
       "      <td>5086</td>\n",
       "    </tr>\n",
       "    <tr>\n",
       "      <th>7</th>\n",
       "      <td>[162.64, 203.3]</td>\n",
       "      <td>5026</td>\n",
       "    </tr>\n",
       "    <tr>\n",
       "      <th>8</th>\n",
       "      <td>[203.3, 300.08]</td>\n",
       "      <td>6841</td>\n",
       "    </tr>\n",
       "    <tr>\n",
       "      <th>9</th>\n",
       "      <td>[300.08, 600.16]</td>\n",
       "      <td>6950</td>\n",
       "    </tr>\n",
       "    <tr>\n",
       "      <th>10</th>\n",
       "      <td>[600.16, 900.24]</td>\n",
       "      <td>8851</td>\n",
       "    </tr>\n",
       "    <tr>\n",
       "      <th>11</th>\n",
       "      <td>[900.24, 1200.32]</td>\n",
       "      <td>7834</td>\n",
       "    </tr>\n",
       "    <tr>\n",
       "      <th>12</th>\n",
       "      <td>[1200.32, 1200.34]</td>\n",
       "      <td>2045</td>\n",
       "    </tr>\n",
       "    <tr>\n",
       "      <th>13</th>\n",
       "      <td>[1200.34, 1500.4]</td>\n",
       "      <td>6940</td>\n",
       "    </tr>\n",
       "    <tr>\n",
       "      <th>14</th>\n",
       "      <td>[1500.4, 2400.68]</td>\n",
       "      <td>5032</td>\n",
       "    </tr>\n",
       "    <tr>\n",
       "      <th>15</th>\n",
       "      <td>[2400.68, 5250.0]</td>\n",
       "      <td>5024</td>\n",
       "    </tr>\n",
       "  </tbody>\n",
       "</table>\n",
       "</div>"
      ],
      "text/plain": [
       "          binned_price  count\n",
       "0       [5.229, 11.73]   6935\n",
       "1       [11.73, 20.92]   6861\n",
       "2        [20.92, 30.3]   4981\n",
       "3        [30.3, 45.45]   7063\n",
       "4       [45.45, 75.75]   5860\n",
       "5      [75.75, 121.98]   8128\n",
       "6     [121.98, 162.64]   5086\n",
       "7      [162.64, 203.3]   5026\n",
       "8      [203.3, 300.08]   6841\n",
       "9     [300.08, 600.16]   6950\n",
       "10    [600.16, 900.24]   8851\n",
       "11   [900.24, 1200.32]   7834\n",
       "12  [1200.32, 1200.34]   2045\n",
       "13   [1200.34, 1500.4]   6940\n",
       "14   [1500.4, 2400.68]   5032\n",
       "15   [2400.68, 5250.0]   5024"
      ]
     },
     "execution_count": 44,
     "metadata": {},
     "output_type": "execute_result"
    }
   ],
   "source": [
    "merged_data_binned_price"
   ]
  },
  {
   "cell_type": "code",
   "execution_count": 45,
   "id": "248ac1fd",
   "metadata": {},
   "outputs": [
    {
     "name": "stdout",
     "output_type": "stream",
     "text": [
      "      customer_id  gender   age payment_method invoice_no         category  \\\n",
      "0         C241288  Female  28.0    Credit Card    I138884         Clothing   \n",
      "1         C111565    Male  21.0     Debit Card    I317333            Shoes   \n",
      "2         C266599    Male  20.0           Cash    I127801         Clothing   \n",
      "3         C988172  Female  66.0    Credit Card    I173702            Shoes   \n",
      "4         C189076  Female  53.0           Cash    I337046            Books   \n",
      "...           ...     ...   ...            ...        ...              ...   \n",
      "99452     C441542  Female  45.0    Credit Card    I219422         Souvenir   \n",
      "99453     C569580    Male  27.0           Cash    I325143  Food & Beverage   \n",
      "99454     C103292    Male  63.0     Debit Card    I824010  Food & Beverage   \n",
      "99455     C800631    Male  56.0           Cash    I702964       Technology   \n",
      "99456     C273973  Female  36.0    Credit Card    I232867         Souvenir   \n",
      "\n",
      "       quantity    price invoice_date     shopping_mall       binned_price  \\\n",
      "0             5  1500.40   05-08-2022            Kanyon  (1200.34, 1500.4]   \n",
      "1             3  1800.51   12-12-2021    Forum Istanbul  (1500.4, 2400.68]   \n",
      "2             1   300.08   09-11-2021         Metrocity    (203.3, 300.08]   \n",
      "3             5  3000.85   16-05-2021      Metropol AVM  (2400.68, 5250.0]   \n",
      "4             4    60.60   24-10-2021            Kanyon     (45.45, 75.75]   \n",
      "...         ...      ...          ...               ...                ...   \n",
      "99452         5    58.65   21-09-2022            Kanyon     (45.45, 75.75]   \n",
      "99453         2    10.46   22-09-2021    Forum Istanbul     (5.229, 11.73]   \n",
      "99454         2    10.46   28-03-2021         Metrocity     (5.229, 11.73]   \n",
      "99455         4  4200.00   16-03-2021      Istinye Park  (2400.68, 5250.0]   \n",
      "99456         3    35.19   15-10-2022  Mall of Istanbul      (30.3, 45.45]   \n",
      "\n",
      "       price_median  \n",
      "0         1950.5400  \n",
      "1         1950.5400  \n",
      "2          251.6900  \n",
      "3         3825.3400  \n",
      "4           60.6000  \n",
      "...             ...  \n",
      "99452       60.6000  \n",
      "99453        8.4795  \n",
      "99454        8.4795  \n",
      "99455     3825.3400  \n",
      "99456       37.8750  \n",
      "\n",
      "[99437 rows x 12 columns]\n"
     ]
    }
   ],
   "source": [
    "merged_data.loc[(merged_data['price'] > 5.229) & (merged_data['price'] <= 11.73), 'price_median'] = 8.4795\n",
    "merged_data.loc[(merged_data['price'] > 11.73) & (merged_data['price'] <= 20.92), 'price_median'] = 16.325\n",
    "merged_data.loc[(merged_data['price'] > 20.92) & (merged_data['price'] <= 30.3), 'price_median'] = 25.61\n",
    "merged_data.loc[(merged_data['price'] > 30.3) & (merged_data['price'] <= 45.45), 'price_median'] = 37.875\n",
    "merged_data.loc[(merged_data['price'] > 45.45) & (merged_data['price'] <= 75.75), 'price_median'] = 60.6\n",
    "merged_data.loc[(merged_data['price'] > 75.75) & (merged_data['price'] <= 121.98), 'price_median'] = 98.865\n",
    "merged_data.loc[(merged_data['price'] > 121.98) & (merged_data['price'] <= 162.64), 'price_median'] = 142.31\n",
    "merged_data.loc[(merged_data['price'] > 162.64) & (merged_data['price'] <= 203.3), 'price_median'] = 182.97\n",
    "merged_data.loc[(merged_data['price'] > 203.3) & (merged_data['price'] <= 300.08), 'price_median'] = 251.69\n",
    "merged_data.loc[(merged_data['price'] > 300.08) & (merged_data['price'] <= 600.16), 'price_median'] = 450.12\n",
    "merged_data.loc[(merged_data['price'] > 600.16) & (merged_data['price'] <= 900.24), 'price_median'] = 750.2\n",
    "merged_data.loc[(merged_data['price'] > 900.24) & (merged_data['price'] <= 1200.32), 'price_median'] = 1050.28\n",
    "merged_data.loc[(merged_data['price'] > 1200.32) & (merged_data['price'] <= 1200.34), 'price_median'] = 1200.33\n",
    "merged_data.loc[(merged_data['price'] > 1200.34) & (merged_data['price'] <= 1500.4), 'price_median'] = 1350.37\n",
    "merged_data.loc[(merged_data['price'] > 1200.4) & (merged_data['price'] <= 2400.68), 'price_median'] = 1950.54\n",
    "merged_data.loc[(merged_data['price'] > 2400.68) & (merged_data['price'] <= 5250), 'price_median'] = 3825.34\n",
    "print(merged_data)"
   ]
  },
  {
   "cell_type": "markdown",
   "id": "1b20edfd",
   "metadata": {},
   "source": [
    "# Now we will find and remove highly corelated fields"
   ]
  },
  {
   "cell_type": "markdown",
   "id": "1f652df0",
   "metadata": {},
   "source": [
    "## first lets remove the binned_price column as it is not needed anymore"
   ]
  },
  {
   "cell_type": "code",
   "execution_count": 46,
   "id": "d265a83b",
   "metadata": {},
   "outputs": [],
   "source": [
    "columns_to_drop = ['binned_price']\n",
    "merged_data = merged_data.drop(columns=columns_to_drop)"
   ]
  },
  {
   "cell_type": "code",
   "execution_count": 47,
   "id": "0d0a15bc",
   "metadata": {
    "scrolled": true
   },
   "outputs": [
    {
     "name": "stdout",
     "output_type": "stream",
     "text": [
      "<class 'pandas.core.frame.DataFrame'>\n",
      "Index: 99437 entries, 0 to 99456\n",
      "Data columns (total 11 columns):\n",
      " #   Column          Non-Null Count  Dtype  \n",
      "---  ------          --------------  -----  \n",
      " 0   customer_id     99437 non-null  object \n",
      " 1   gender          99437 non-null  object \n",
      " 2   age             99437 non-null  float64\n",
      " 3   payment_method  99437 non-null  object \n",
      " 4   invoice_no      99437 non-null  object \n",
      " 5   category        99437 non-null  object \n",
      " 6   quantity        99437 non-null  int64  \n",
      " 7   price           99437 non-null  float64\n",
      " 8   invoice_date    99437 non-null  object \n",
      " 9   shopping_mall   99437 non-null  object \n",
      " 10  price_median    99437 non-null  float64\n",
      "dtypes: float64(3), int64(1), object(7)\n",
      "memory usage: 9.1+ MB\n",
      "None\n"
     ]
    }
   ],
   "source": [
    "print(merged_data.info()) # the binned_price column is dropped"
   ]
  },
  {
   "cell_type": "markdown",
   "id": "092d5439",
   "metadata": {},
   "source": [
    "## now lets include only the numeric columns in a new df called merged_data_numeric"
   ]
  },
  {
   "cell_type": "code",
   "execution_count": 48,
   "id": "f8a0ec03",
   "metadata": {},
   "outputs": [
    {
     "name": "stdout",
     "output_type": "stream",
     "text": [
      "<class 'pandas.core.frame.DataFrame'>\n",
      "Index: 99437 entries, 0 to 99456\n",
      "Data columns (total 4 columns):\n",
      " #   Column        Non-Null Count  Dtype  \n",
      "---  ------        --------------  -----  \n",
      " 0   age           99437 non-null  float64\n",
      " 1   quantity      99437 non-null  int64  \n",
      " 2   price         99437 non-null  float64\n",
      " 3   price_median  99437 non-null  float64\n",
      "dtypes: float64(3), int64(1)\n",
      "memory usage: 3.8 MB\n",
      "None\n"
     ]
    }
   ],
   "source": [
    "merged_data_numeric = merged_data.select_dtypes(include='number')\n",
    "print(merged_data_numeric.info())"
   ]
  },
  {
   "cell_type": "code",
   "execution_count": 49,
   "id": "960cb73b",
   "metadata": {},
   "outputs": [
    {
     "name": "stdout",
     "output_type": "stream",
     "text": [
      "Highly correlated columns: {'price_median'}\n"
     ]
    }
   ],
   "source": [
    "correlation_matrix = merged_data_numeric.corr()\n",
    "threshold = 0.8  \n",
    "highly_correlated_cols = set()\n",
    "\n",
    "for i in range(len(correlation_matrix.columns)):\n",
    "    for j in range(i):\n",
    "        if abs(correlation_matrix.iloc[i, j]) > threshold:\n",
    "            colname = correlation_matrix.columns[i]\n",
    "            highly_correlated_cols.add(colname)\n",
    "\n",
    "print(\"Highly correlated columns:\", highly_correlated_cols)"
   ]
  },
  {
   "cell_type": "code",
   "execution_count": 50,
   "id": "086fd8f6",
   "metadata": {},
   "outputs": [
    {
     "name": "stdout",
     "output_type": "stream",
     "text": [
      "Correlation value between 'price' and 'median': 0.9643736592955177\n"
     ]
    }
   ],
   "source": [
    "correlation_value = correlation_matrix.loc['price', 'price_median']\n",
    "print(\"Correlation value between 'price' and 'median':\", correlation_value)\n"
   ]
  },
  {
   "cell_type": "markdown",
   "id": "015c231e",
   "metadata": {},
   "source": [
    "## since price and price_median have high corelation, i will remove the price column and leave the price_median column as the price_median coumn have a more even data distribution"
   ]
  },
  {
   "cell_type": "code",
   "execution_count": 51,
   "id": "d89eaf9e",
   "metadata": {},
   "outputs": [],
   "source": [
    "columns_to_drop = ['price']\n",
    "merged_data = merged_data.drop(columns=columns_to_drop)"
   ]
  },
  {
   "cell_type": "code",
   "execution_count": 52,
   "id": "5818150b",
   "metadata": {
    "scrolled": true
   },
   "outputs": [
    {
     "name": "stdout",
     "output_type": "stream",
     "text": [
      "<class 'pandas.core.frame.DataFrame'>\n",
      "Index: 99437 entries, 0 to 99456\n",
      "Data columns (total 10 columns):\n",
      " #   Column          Non-Null Count  Dtype  \n",
      "---  ------          --------------  -----  \n",
      " 0   customer_id     99437 non-null  object \n",
      " 1   gender          99437 non-null  object \n",
      " 2   age             99437 non-null  float64\n",
      " 3   payment_method  99437 non-null  object \n",
      " 4   invoice_no      99437 non-null  object \n",
      " 5   category        99437 non-null  object \n",
      " 6   quantity        99437 non-null  int64  \n",
      " 7   invoice_date    99437 non-null  object \n",
      " 8   shopping_mall   99437 non-null  object \n",
      " 9   price_median    99437 non-null  float64\n",
      "dtypes: float64(2), int64(1), object(7)\n",
      "memory usage: 8.3+ MB\n",
      "None\n"
     ]
    }
   ],
   "source": [
    "print(merged_data.info()) # the price column is dropped"
   ]
  },
  {
   "cell_type": "markdown",
   "id": "09eb2978",
   "metadata": {},
   "source": [
    "## Lets also drop the customer_id and Invoice_no columns as they are identifier columns"
   ]
  },
  {
   "cell_type": "code",
   "execution_count": 53,
   "id": "5bb3f6a2",
   "metadata": {},
   "outputs": [],
   "source": [
    "columns_to_drop = ['customer_id','invoice_no']\n",
    "merged_data = merged_data.drop(columns=columns_to_drop)"
   ]
  },
  {
   "cell_type": "code",
   "execution_count": 54,
   "id": "ecb3abf6",
   "metadata": {
    "scrolled": false
   },
   "outputs": [
    {
     "name": "stdout",
     "output_type": "stream",
     "text": [
      "<class 'pandas.core.frame.DataFrame'>\n",
      "Index: 99437 entries, 0 to 99456\n",
      "Data columns (total 8 columns):\n",
      " #   Column          Non-Null Count  Dtype  \n",
      "---  ------          --------------  -----  \n",
      " 0   gender          99437 non-null  object \n",
      " 1   age             99437 non-null  float64\n",
      " 2   payment_method  99437 non-null  object \n",
      " 3   category        99437 non-null  object \n",
      " 4   quantity        99437 non-null  int64  \n",
      " 5   invoice_date    99437 non-null  object \n",
      " 6   shopping_mall   99437 non-null  object \n",
      " 7   price_median    99437 non-null  float64\n",
      "dtypes: float64(2), int64(1), object(5)\n",
      "memory usage: 6.8+ MB\n",
      "None\n"
     ]
    }
   ],
   "source": [
    "print(merged_data.info()) # the columns are dropped"
   ]
  },
  {
   "cell_type": "markdown",
   "id": "b8cf0e04",
   "metadata": {},
   "source": [
    "## Lets also drop the invoice_date and shopping_mall columns as they are redundant columns providing information on where and when the shoppers bought the items"
   ]
  },
  {
   "cell_type": "code",
   "execution_count": 55,
   "id": "53bb8b86",
   "metadata": {},
   "outputs": [],
   "source": [
    "columns_to_drop = ['shopping_mall','invoice_date']\n",
    "merged_data = merged_data.drop(columns=columns_to_drop)"
   ]
  },
  {
   "cell_type": "code",
   "execution_count": 56,
   "id": "c494b5a5",
   "metadata": {},
   "outputs": [
    {
     "name": "stdout",
     "output_type": "stream",
     "text": [
      "<class 'pandas.core.frame.DataFrame'>\n",
      "Index: 99437 entries, 0 to 99456\n",
      "Data columns (total 6 columns):\n",
      " #   Column          Non-Null Count  Dtype  \n",
      "---  ------          --------------  -----  \n",
      " 0   gender          99437 non-null  object \n",
      " 1   age             99437 non-null  float64\n",
      " 2   payment_method  99437 non-null  object \n",
      " 3   category        99437 non-null  object \n",
      " 4   quantity        99437 non-null  int64  \n",
      " 5   price_median    99437 non-null  float64\n",
      "dtypes: float64(2), int64(1), object(3)\n",
      "memory usage: 5.3+ MB\n",
      "None\n"
     ]
    }
   ],
   "source": [
    "print(merged_data.info()) # the columns are dropped"
   ]
  },
  {
   "cell_type": "markdown",
   "id": "18dda6cf",
   "metadata": {},
   "source": [
    "## Now lets one hot encode the object data types"
   ]
  },
  {
   "cell_type": "code",
   "execution_count": 57,
   "id": "185c0dd6",
   "metadata": {
    "scrolled": true
   },
   "outputs": [
    {
     "name": "stdout",
     "output_type": "stream",
     "text": [
      "Index(['age', 'category', 'quantity', 'price_median', 'gender_Female',\n",
      "       'gender_Male', 'payment_method_Cash', 'payment_method_Credit Card',\n",
      "       'payment_method_Debit Card'],\n",
      "      dtype='object')\n"
     ]
    }
   ],
   "source": [
    "merged_data_encoded = pd.get_dummies(merged_data, columns=['gender', 'payment_method'])\n",
    "print(merged_data_encoded.columns)"
   ]
  },
  {
   "cell_type": "code",
   "execution_count": 58,
   "id": "ce5c002f",
   "metadata": {},
   "outputs": [],
   "source": [
    "columns_to_drop = ['category']\n",
    "merged_data_encoded = merged_data_encoded.drop(columns=columns_to_drop)"
   ]
  },
  {
   "cell_type": "code",
   "execution_count": 59,
   "id": "740fccd7",
   "metadata": {
    "scrolled": false
   },
   "outputs": [
    {
     "name": "stdout",
     "output_type": "stream",
     "text": [
      "Index(['age', 'quantity', 'price_median', 'gender_Female', 'gender_Male',\n",
      "       'payment_method_Cash', 'payment_method_Credit Card',\n",
      "       'payment_method_Debit Card'],\n",
      "      dtype='object')\n"
     ]
    }
   ],
   "source": [
    "print(merged_data_encoded.columns)"
   ]
  },
  {
   "cell_type": "code",
   "execution_count": 60,
   "id": "134dc2a7",
   "metadata": {},
   "outputs": [
    {
     "name": "stdout",
     "output_type": "stream",
     "text": [
      "        age  quantity  price_median  gender_Female  gender_Male  \\\n",
      "0      28.0         5     1950.5400           True        False   \n",
      "1      21.0         3     1950.5400          False         True   \n",
      "2      20.0         1      251.6900          False         True   \n",
      "3      66.0         5     3825.3400           True        False   \n",
      "4      53.0         4       60.6000           True        False   \n",
      "...     ...       ...           ...            ...          ...   \n",
      "99452  45.0         5       60.6000           True        False   \n",
      "99453  27.0         2        8.4795          False         True   \n",
      "99454  63.0         2        8.4795          False         True   \n",
      "99455  56.0         4     3825.3400          False         True   \n",
      "99456  36.0         3       37.8750           True        False   \n",
      "\n",
      "       payment_method_Cash  payment_method_Credit Card  \\\n",
      "0                    False                        True   \n",
      "1                    False                       False   \n",
      "2                     True                       False   \n",
      "3                    False                        True   \n",
      "4                     True                       False   \n",
      "...                    ...                         ...   \n",
      "99452                False                        True   \n",
      "99453                 True                       False   \n",
      "99454                False                       False   \n",
      "99455                 True                       False   \n",
      "99456                False                        True   \n",
      "\n",
      "       payment_method_Debit Card  \n",
      "0                          False  \n",
      "1                           True  \n",
      "2                          False  \n",
      "3                          False  \n",
      "4                          False  \n",
      "...                          ...  \n",
      "99452                      False  \n",
      "99453                      False  \n",
      "99454                       True  \n",
      "99455                      False  \n",
      "99456                      False  \n",
      "\n",
      "[99437 rows x 8 columns]\n"
     ]
    }
   ],
   "source": [
    "print(merged_data_encoded)"
   ]
  },
  {
   "cell_type": "markdown",
   "id": "05322e37",
   "metadata": {},
   "source": [
    "# Now we can start to train our model "
   ]
  },
  {
   "cell_type": "markdown",
   "id": "45cc4fb1",
   "metadata": {},
   "source": [
    "## Lets load the libaries first"
   ]
  },
  {
   "cell_type": "code",
   "execution_count": 61,
   "id": "fd799512",
   "metadata": {},
   "outputs": [],
   "source": [
    "from pandas.plotting import scatter_matrix\n",
    "import matplotlib.pyplot as plt\n",
    "from sklearn import model_selection\n",
    "from sklearn.metrics import classification_report\n",
    "from sklearn.metrics import confusion_matrix\n",
    "from sklearn.metrics import accuracy_score\n",
    "from sklearn.linear_model import LogisticRegression\n",
    "from sklearn.tree import DecisionTreeClassifier\n",
    "from sklearn.neighbors import KNeighborsClassifier\n",
    "from sklearn.discriminant_analysis import LinearDiscriminantAnalysis\n",
    "from sklearn.naive_bayes import GaussianNB\n",
    "from sklearn.svm import SVC\n",
    "from sklearn.model_selection import train_test_split\n",
    "from sklearn import ensemble\n",
    "import sklearn.externals\n",
    "import joblib\n",
    "from sklearn.ensemble import GradientBoostingClassifier\n",
    "import lightgbm as lgb\n",
    "import xgboost as xgb"
   ]
  },
  {
   "cell_type": "code",
   "execution_count": 62,
   "id": "3cbb9ea5",
   "metadata": {},
   "outputs": [],
   "source": [
    "X = merged_data_encoded.values\n",
    "y = merged_data['category'].values"
   ]
  },
  {
   "cell_type": "code",
   "execution_count": 63,
   "id": "4757166f",
   "metadata": {},
   "outputs": [],
   "source": [
    "\n",
    "\n",
    "X_train, X_test, y_train, y_test = train_test_split(X, y, test_size=0.3, random_state=7)"
   ]
  },
  {
   "cell_type": "markdown",
   "id": "fac041ec",
   "metadata": {},
   "source": [
    "## Lets first perform normalization on our x_train, x_test"
   ]
  },
  {
   "cell_type": "code",
   "execution_count": 64,
   "id": "72eca38c",
   "metadata": {},
   "outputs": [],
   "source": [
    "from sklearn.preprocessing import MinMaxScaler"
   ]
  },
  {
   "cell_type": "code",
   "execution_count": 65,
   "id": "17265a76",
   "metadata": {},
   "outputs": [],
   "source": [
    "scaler_X = MinMaxScaler()"
   ]
  },
  {
   "cell_type": "code",
   "execution_count": 66,
   "id": "d2fe5f5c",
   "metadata": {},
   "outputs": [],
   "source": [
    "# Fit and transform the X_train data\n",
    "X_train_scaled = scaler_X.fit_transform(X_train)"
   ]
  },
  {
   "cell_type": "code",
   "execution_count": 67,
   "id": "f2d7d500",
   "metadata": {},
   "outputs": [],
   "source": [
    "# Transform the X_test data\n",
    "X_test_scaled = scaler_X.transform(X_test)"
   ]
  },
  {
   "cell_type": "markdown",
   "id": "60d7ca3c",
   "metadata": {},
   "source": [
    "## Now lets train our models\n"
   ]
  },
  {
   "cell_type": "code",
   "execution_count": 68,
   "id": "8accf95a",
   "metadata": {},
   "outputs": [],
   "source": [
    "seed = 3\n",
    "scoring = 'accuracy'"
   ]
  },
  {
   "cell_type": "code",
   "execution_count": 69,
   "id": "ae2a51bb",
   "metadata": {
    "scrolled": true
   },
   "outputs": [],
   "source": [
    "LR = LogisticRegression(solver='lbfgs', multi_class='auto', max_iter=200)\n",
    "LDA = LinearDiscriminantAnalysis()\n",
    "KNN = KNeighborsClassifier()\n",
    "CART = DecisionTreeClassifier()\n",
    "NB = GaussianNB()\n",
    "SVM = SVC(gamma='auto')\n",
    "LGBM = lgb.LGBMClassifier()\n"
   ]
  },
  {
   "cell_type": "code",
   "execution_count": 70,
   "id": "6853cfc5",
   "metadata": {
    "scrolled": true
   },
   "outputs": [
    {
     "name": "stderr",
     "output_type": "stream",
     "text": [
      "C:\\Users\\Administrator\\anaconda3\\envs\\MLDV\\Lib\\site-packages\\sklearn\\linear_model\\_logistic.py:458: ConvergenceWarning: lbfgs failed to converge (status=1):\n",
      "STOP: TOTAL NO. of ITERATIONS REACHED LIMIT.\n",
      "\n",
      "Increase the number of iterations (max_iter) or scale the data as shown in:\n",
      "    https://scikit-learn.org/stable/modules/preprocessing.html\n",
      "Please also refer to the documentation for alternative solver options:\n",
      "    https://scikit-learn.org/stable/modules/linear_model.html#logistic-regression\n",
      "  n_iter_i = _check_optimize_result(\n"
     ]
    },
    {
     "name": "stdout",
     "output_type": "stream",
     "text": [
      "[LightGBM] [Info] Auto-choosing row-wise multi-threading, the overhead of testing was 0.001958 seconds.\n",
      "You can set `force_row_wise=true` to remove the overhead.\n",
      "And if memory is not enough, you can set `force_col_wise=true`.\n",
      "[LightGBM] [Info] Total Bins 83\n",
      "[LightGBM] [Info] Number of data points in the train set: 69605, number of used features: 8\n",
      "[LightGBM] [Info] Start training from score -2.991217\n",
      "[LightGBM] [Info] Start training from score -1.060957\n",
      "[LightGBM] [Info] Start training from score -1.878780\n",
      "[LightGBM] [Info] Start training from score -1.903630\n",
      "[LightGBM] [Info] Start training from score -2.294216\n",
      "[LightGBM] [Info] Start training from score -3.010859\n",
      "[LightGBM] [Info] Start training from score -2.988361\n",
      "[LightGBM] [Info] Start training from score -2.288816\n",
      "[LightGBM] [Warning] No further splits with positive gain, best gain: -inf\n"
     ]
    },
    {
     "data": {
      "text/html": [
       "<style>#sk-container-id-1 {color: black;background-color: white;}#sk-container-id-1 pre{padding: 0;}#sk-container-id-1 div.sk-toggleable {background-color: white;}#sk-container-id-1 label.sk-toggleable__label {cursor: pointer;display: block;width: 100%;margin-bottom: 0;padding: 0.3em;box-sizing: border-box;text-align: center;}#sk-container-id-1 label.sk-toggleable__label-arrow:before {content: \"▸\";float: left;margin-right: 0.25em;color: #696969;}#sk-container-id-1 label.sk-toggleable__label-arrow:hover:before {color: black;}#sk-container-id-1 div.sk-estimator:hover label.sk-toggleable__label-arrow:before {color: black;}#sk-container-id-1 div.sk-toggleable__content {max-height: 0;max-width: 0;overflow: hidden;text-align: left;background-color: #f0f8ff;}#sk-container-id-1 div.sk-toggleable__content pre {margin: 0.2em;color: black;border-radius: 0.25em;background-color: #f0f8ff;}#sk-container-id-1 input.sk-toggleable__control:checked~div.sk-toggleable__content {max-height: 200px;max-width: 100%;overflow: auto;}#sk-container-id-1 input.sk-toggleable__control:checked~label.sk-toggleable__label-arrow:before {content: \"▾\";}#sk-container-id-1 div.sk-estimator input.sk-toggleable__control:checked~label.sk-toggleable__label {background-color: #d4ebff;}#sk-container-id-1 div.sk-label input.sk-toggleable__control:checked~label.sk-toggleable__label {background-color: #d4ebff;}#sk-container-id-1 input.sk-hidden--visually {border: 0;clip: rect(1px 1px 1px 1px);clip: rect(1px, 1px, 1px, 1px);height: 1px;margin: -1px;overflow: hidden;padding: 0;position: absolute;width: 1px;}#sk-container-id-1 div.sk-estimator {font-family: monospace;background-color: #f0f8ff;border: 1px dotted black;border-radius: 0.25em;box-sizing: border-box;margin-bottom: 0.5em;}#sk-container-id-1 div.sk-estimator:hover {background-color: #d4ebff;}#sk-container-id-1 div.sk-parallel-item::after {content: \"\";width: 100%;border-bottom: 1px solid gray;flex-grow: 1;}#sk-container-id-1 div.sk-label:hover label.sk-toggleable__label {background-color: #d4ebff;}#sk-container-id-1 div.sk-serial::before {content: \"\";position: absolute;border-left: 1px solid gray;box-sizing: border-box;top: 0;bottom: 0;left: 50%;z-index: 0;}#sk-container-id-1 div.sk-serial {display: flex;flex-direction: column;align-items: center;background-color: white;padding-right: 0.2em;padding-left: 0.2em;position: relative;}#sk-container-id-1 div.sk-item {position: relative;z-index: 1;}#sk-container-id-1 div.sk-parallel {display: flex;align-items: stretch;justify-content: center;background-color: white;position: relative;}#sk-container-id-1 div.sk-item::before, #sk-container-id-1 div.sk-parallel-item::before {content: \"\";position: absolute;border-left: 1px solid gray;box-sizing: border-box;top: 0;bottom: 0;left: 50%;z-index: -1;}#sk-container-id-1 div.sk-parallel-item {display: flex;flex-direction: column;z-index: 1;position: relative;background-color: white;}#sk-container-id-1 div.sk-parallel-item:first-child::after {align-self: flex-end;width: 50%;}#sk-container-id-1 div.sk-parallel-item:last-child::after {align-self: flex-start;width: 50%;}#sk-container-id-1 div.sk-parallel-item:only-child::after {width: 0;}#sk-container-id-1 div.sk-dashed-wrapped {border: 1px dashed gray;margin: 0 0.4em 0.5em 0.4em;box-sizing: border-box;padding-bottom: 0.4em;background-color: white;}#sk-container-id-1 div.sk-label label {font-family: monospace;font-weight: bold;display: inline-block;line-height: 1.2em;}#sk-container-id-1 div.sk-label-container {text-align: center;}#sk-container-id-1 div.sk-container {/* jupyter's `normalize.less` sets `[hidden] { display: none; }` but bootstrap.min.css set `[hidden] { display: none !important; }` so we also need the `!important` here to be able to override the default hidden behavior on the sphinx rendered scikit-learn.org. See: https://github.com/scikit-learn/scikit-learn/issues/21755 */display: inline-block !important;position: relative;}#sk-container-id-1 div.sk-text-repr-fallback {display: none;}</style><div id=\"sk-container-id-1\" class=\"sk-top-container\"><div class=\"sk-text-repr-fallback\"><pre>LGBMClassifier()</pre><b>In a Jupyter environment, please rerun this cell to show the HTML representation or trust the notebook. <br />On GitHub, the HTML representation is unable to render, please try loading this page with nbviewer.org.</b></div><div class=\"sk-container\" hidden><div class=\"sk-item\"><div class=\"sk-estimator sk-toggleable\"><input class=\"sk-toggleable__control sk-hidden--visually\" id=\"sk-estimator-id-1\" type=\"checkbox\" checked><label for=\"sk-estimator-id-1\" class=\"sk-toggleable__label sk-toggleable__label-arrow\">LGBMClassifier</label><div class=\"sk-toggleable__content\"><pre>LGBMClassifier()</pre></div></div></div></div></div>"
      ],
      "text/plain": [
       "LGBMClassifier()"
      ]
     },
     "execution_count": 70,
     "metadata": {},
     "output_type": "execute_result"
    }
   ],
   "source": [
    "LR.fit(X_train_scaled,y_train)\n",
    "LDA.fit(X_train_scaled,y_train)\n",
    "KNN.fit(X_train_scaled,y_train)\n",
    "CART.fit(X_train_scaled,y_train)\n",
    "NB.fit(X_train_scaled,y_train)\n",
    "SVM.fit(X_train_scaled,y_train)\n",
    "LGBM.fit(X_train_scaled,y_train)\n"
   ]
  },
  {
   "cell_type": "code",
   "execution_count": 71,
   "id": "ea5f2c34",
   "metadata": {},
   "outputs": [],
   "source": [
    "Predict_LR = LR.predict(X_test_scaled)\n",
    "Predict_LDA = LDA.predict(X_test_scaled)\n",
    "Predict_KNN = KNN.predict(X_test_scaled)\n",
    "Predict_CART = CART.predict(X_test_scaled)\n",
    "Predict_NB = NB.predict(X_test_scaled)\n",
    "Predict_SVM = SVM.predict(X_test_scaled)\n",
    "Predict_LGBM = LGBM.predict(X_test_scaled)\n"
   ]
  },
  {
   "cell_type": "code",
   "execution_count": 72,
   "id": "c883a35b",
   "metadata": {},
   "outputs": [
    {
     "name": "stdout",
     "output_type": "stream",
     "text": [
      "LR: 0.7627379994636632\n",
      "LDA: 0.529230356663985\n",
      "KNN: 0.8163716814159292\n",
      "CART: 0.8471440064360418\n",
      "NB: 0.6575489407347814\n",
      "SVM: 0.7492625368731564\n",
      "LGBM: 0.8508313220702601\n"
     ]
    }
   ],
   "source": [
    "accuracy_score_LR = accuracy_score(y_test,Predict_LR)\n",
    "accuracy_score_LDA = accuracy_score(y_test,Predict_LDA)\n",
    "accuracy_score_KNN = accuracy_score(y_test,Predict_KNN)\n",
    "accuracy_score_CART = accuracy_score(y_test,Predict_CART)\n",
    "accuracy_score_NB = accuracy_score(y_test,Predict_NB)\n",
    "accuracy_score_SVM = accuracy_score(y_test,Predict_SVM)\n",
    "accuracy_score_LGBM = accuracy_score(y_test,Predict_LGBM)\n",
    "\n",
    "print('LR:',accuracy_score_LR)\n",
    "print('LDA:',accuracy_score_LDA)\n",
    "print('KNN:',accuracy_score_KNN)\n",
    "print('CART:',accuracy_score_CART)\n",
    "print('NB:',accuracy_score_NB)\n",
    "print('SVM:',accuracy_score_SVM)\n",
    "print('LGBM:',accuracy_score_LGBM)"
   ]
  },
  {
   "cell_type": "markdown",
   "id": "0b2fc7cd",
   "metadata": {},
   "source": [
    "## Based on accuracy, it seems that our LGBM and CART models are our bext choice, however, we also have to take a look at f1 score, confusion matrix,recall_score and precision score"
   ]
  },
  {
   "cell_type": "code",
   "execution_count": 73,
   "id": "7b5fdffb",
   "metadata": {},
   "outputs": [],
   "source": [
    "from sklearn.metrics import confusion_matrix, classification_report, precision_score, recall_score, f1_score"
   ]
  },
  {
   "cell_type": "code",
   "execution_count": 74,
   "id": "9f859011",
   "metadata": {
    "scrolled": true
   },
   "outputs": [
    {
     "name": "stdout",
     "output_type": "stream",
     "text": [
      "LR:\n",
      " [[    0     0     0  1483     0     0     0     0]\n",
      " [    0 10391     0     0     0     0     0     0]\n",
      " [    0     0  3761   699     0     0     0     0]\n",
      " [    0     0     0  4401     0     0     0     0]\n",
      " [    0     0     0     0  3013     0     0     0]\n",
      " [    0     0     0  1567     0     0     0     0]\n",
      " [    0     0     0     0   300     0  1188     0]\n",
      " [    0     0  2586   443     0     0     0     0]]\n",
      "LDA:\n",
      " [[    0   284   558   641     0     0     0     0]\n",
      " [    0 10391     0     0     0     0     0     0]\n",
      " [    0  1748   915  1797     0     0     0     0]\n",
      " [    0   896  1104  2401     0     0     0     0]\n",
      " [    0  1230     0     0  1172     0   611     0]\n",
      " [    0   325   551   691     0     0     0     0]\n",
      " [    0   292     0     0   287     0   909     0]\n",
      " [    0   617  1180  1232     0     0     0     0]]\n",
      "KNN:\n",
      " [[  706     0    11   386     0   380     0     0]\n",
      " [    0 10391     0     0     0     0     0     0]\n",
      " [   13     0  3332     2     0     4     0  1109]\n",
      " [   76     0     7  4178     0   137     0     3]\n",
      " [    0     0     0     0  2888     0   125     0]\n",
      " [  574     0     7   562     0   420     0     4]\n",
      " [    0     0     0     0   245     0  1243     0]\n",
      " [   55     0  1731     3     0    44     0  1196]]\n",
      "CART:\n",
      " [[ 1014     0     0     0     0   469     0     0]\n",
      " [    0 10391     0     0     0     0     0     0]\n",
      " [    0     0  3747     0     0     0     0   713]\n",
      " [    0     0     0  4363     0    38     0     0]\n",
      " [    0     0     0     0  2931     0    82     0]\n",
      " [  738     0     0   311     0   518     0     0]\n",
      " [    0     0     0     0   266     0  1222     0]\n",
      " [    0     0  1943     0     0     0     0  1086]]\n",
      "NB:\n",
      " [[  246     0   580   599     0    58     0     0]\n",
      " [    0 10391     0     0     0     0     0     0]\n",
      " [  685     0  3587     0     0   188     0     0]\n",
      " [    0     0     0  4401     0     0     0     0]\n",
      " [    0  2402     0     0     0     0   611     0]\n",
      " [  216     0   629   640     0    82     0     0]\n",
      " [    0   579     0     0     0     0   909     0]\n",
      " [  437     0  2463     0     0   129     0     0]]\n",
      "SVM:\n",
      " [[    0     0   451  1032     0     0     0     0]\n",
      " [    0 10391     0     0     0     0     0     0]\n",
      " [    0     0  4336   124     0     0     0     0]\n",
      " [    0     0   685  3716     0     0     0     0]\n",
      " [    0     0     0     0  3013     0     0     0]\n",
      " [    0     0   487  1080     0     0     0     0]\n",
      " [    0     0     0     0   592     0   896     0]\n",
      " [    0     0  2855   174     0     0     0     0]]\n",
      "LGBM:\n",
      " [[  934     0     0     0     0   549     0     0]\n",
      " [    0 10391     0     0     0     0     0     0]\n",
      " [    0     0  4096     0     0     0     0   364]\n",
      " [    0     0     0  4375     0    26     0     0]\n",
      " [    0     0     0     0  2922     0    91     0]\n",
      " [  658     0     0   316     0   593     0     0]\n",
      " [    0     0     0     0   265     0  1223     0]\n",
      " [    0     0  2181     0     0     0     0   848]]\n"
     ]
    }
   ],
   "source": [
    "conf_matrix_LR = confusion_matrix(y_test,Predict_LR)\n",
    "conf_matrix_LDA = confusion_matrix(y_test,Predict_LDA)\n",
    "conf_matrix_KNN = confusion_matrix(y_test,Predict_KNN)\n",
    "conf_matrix_CART = confusion_matrix(y_test,Predict_CART)\n",
    "conf_matrix_NB = confusion_matrix(y_test,Predict_NB)\n",
    "conf_matrix_SVM = confusion_matrix(y_test,Predict_SVM)\n",
    "conf_matrix_LGBM = confusion_matrix(y_test,Predict_LGBM)\n",
    "\n",
    "print('LR:\\n', conf_matrix_LR)\n",
    "print('LDA:\\n',conf_matrix_LDA)\n",
    "print('KNN:\\n',conf_matrix_KNN)\n",
    "print('CART:\\n',conf_matrix_CART)\n",
    "print('NB:\\n',conf_matrix_NB)\n",
    "print('SVM:\\n',conf_matrix_SVM)\n",
    "print('LGBM:\\n',conf_matrix_LGBM)"
   ]
  },
  {
   "cell_type": "code",
   "execution_count": 75,
   "id": "09da1be5",
   "metadata": {},
   "outputs": [
    {
     "name": "stdout",
     "output_type": "stream",
     "text": [
      "LR:\n",
      " Total Number of true positive: 26704 \n",
      " Total Number of False Positive: 8783\n",
      "LDA:\n",
      " Total Number of true positive: 35184 \n",
      " Total Number of False Positive: 6001\n",
      "KNN:\n",
      " Total Number of true positive: 27544 \n",
      " Total Number of False Positive: 1085\n",
      "CART:\n",
      " Total Number of true positive: 31633 \n",
      " Total Number of False Positive: 2303\n",
      "NB:\n",
      " Total Number of true positive: 27272 \n",
      " Total Number of False Positive: 2740\n",
      "SVM:\n",
      " Total Number of true positive: 26747 \n",
      " Total Number of False Positive: 6795\n",
      "LGBM:\n",
      " Total Number of true positive: 28087 \n",
      " Total Number of False Positive: 2513\n"
     ]
    }
   ],
   "source": [
    "print(f'LR:\\n Total Number of true positive: {26704} \\n Total Number of False Positive: {8783}')\n",
    "print(f'LDA:\\n Total Number of true positive: {35184} \\n Total Number of False Positive: {6001}')\n",
    "print(f'KNN:\\n Total Number of true positive: {27544} \\n Total Number of False Positive: {1085}')\n",
    "print(f'CART:\\n Total Number of true positive: {31633} \\n Total Number of False Positive: {2303}')\n",
    "print(f'NB:\\n Total Number of true positive: {27272} \\n Total Number of False Positive: {2740}')\n",
    "print(f'SVM:\\n Total Number of true positive: {26747} \\n Total Number of False Positive: {6795}')\n",
    "print(f'LGBM:\\n Total Number of true positive: {28087} \\n Total Number of False Positive: {2513}')"
   ]
  },
  {
   "cell_type": "markdown",
   "id": "05577ac4",
   "metadata": {},
   "source": [
    "### using confusion matrix, we can see that the LGBM and CART model is still our top choice"
   ]
  },
  {
   "cell_type": "code",
   "execution_count": 76,
   "id": "35419d73",
   "metadata": {},
   "outputs": [
    {
     "name": "stdout",
     "output_type": "stream",
     "text": [
      "LR: 0.7627379994636632\n",
      "LDA: 0.529230356663985\n",
      "KNN: 0.8163716814159292\n",
      "CART: 0.8471440064360418\n",
      "NB: 0.6575489407347814\n",
      "SVM: 0.7492625368731564\n",
      "LGBM: 0.8508313220702601\n"
     ]
    }
   ],
   "source": [
    "precision_LR = precision_score(y_test,Predict_LR,average='micro')\n",
    "precision_LDA = precision_score(y_test,Predict_LDA,average='micro')\n",
    "precision_KNN = precision_score(y_test,Predict_KNN,average='micro')\n",
    "precision_CART = precision_score(y_test,Predict_CART,average='micro')\n",
    "precision_NB = precision_score(y_test,Predict_NB,average='micro')\n",
    "precision_SVM = precision_score(y_test,Predict_SVM,average='micro')\n",
    "precision_LGBM = precision_score(y_test,Predict_LGBM,average='micro')\n",
    "\n",
    "print('LR:',precision_LR)\n",
    "print('LDA:',precision_LDA)\n",
    "print('KNN:',precision_KNN)\n",
    "print('CART:',precision_CART)\n",
    "print('NB:',precision_NB)\n",
    "print('SVM:',precision_SVM)\n",
    "print('LGBM:',precision_LGBM)"
   ]
  },
  {
   "cell_type": "markdown",
   "id": "03e6e3cc",
   "metadata": {},
   "source": [
    "### Based on precision score, CART and LGBM models still out top choice\n"
   ]
  },
  {
   "cell_type": "code",
   "execution_count": 77,
   "id": "f62be6bb",
   "metadata": {},
   "outputs": [
    {
     "name": "stdout",
     "output_type": "stream",
     "text": [
      "LR: 0.7627379994636632\n",
      "LDA: 0.529230356663985\n",
      "KNN: 0.8163716814159292\n",
      "CART: 0.8471440064360418\n",
      "NB: 0.6575489407347814\n",
      "SVM: 0.7492625368731564\n",
      "LGBM: 0.8508313220702601\n"
     ]
    }
   ],
   "source": [
    "recall_LR = recall_score(y_test,Predict_LR,average='micro')\n",
    "recall_LDA = recall_score(y_test,Predict_LDA,average='micro')\n",
    "recall_KNN = recall_score(y_test,Predict_KNN,average='micro')\n",
    "recall_CART = recall_score(y_test,Predict_CART,average='micro')\n",
    "recall_NB = recall_score(y_test,Predict_NB,average='micro')\n",
    "recall_SVM = recall_score(y_test,Predict_SVM,average='micro')\n",
    "recall_LGBM = recall_score(y_test,Predict_LGBM,average='micro')\n",
    "\n",
    "print('LR:',recall_LR)\n",
    "print('LDA:',recall_LDA)\n",
    "print('KNN:',recall_KNN)\n",
    "print('CART:',recall_CART)\n",
    "print('NB:',recall_NB)\n",
    "print('SVM:',recall_SVM)\n",
    "print('LGBM:',recall_LGBM)"
   ]
  },
  {
   "cell_type": "markdown",
   "id": "6de2d3a9",
   "metadata": {},
   "source": [
    "### Based on Recall score, CART and LGBM are still our top choice"
   ]
  },
  {
   "cell_type": "code",
   "execution_count": 78,
   "id": "026bcdf8",
   "metadata": {},
   "outputs": [
    {
     "name": "stdout",
     "output_type": "stream",
     "text": [
      "LR: 0.5267361199393874\n",
      "LDA: 0.3201771513379656\n",
      "KNN: 0.7059442079482203\n",
      "CART: 0.7494559723283957\n",
      "NB: 0.401145047200807\n",
      "SVM: 0.5026907716121556\n",
      "LGBM: 0.7477382010519624\n"
     ]
    }
   ],
   "source": [
    "f1_LR = f1_score(y_test,Predict_LR,average='macro')\n",
    "f1_LDA = f1_score(y_test,Predict_LDA,average='macro')\n",
    "f1_KNN = f1_score(y_test,Predict_KNN,average='macro')\n",
    "f1_CART = f1_score(y_test,Predict_CART,average='macro')\n",
    "f1_NB = f1_score(y_test,Predict_NB,average='macro')\n",
    "f1_SVM = f1_score(y_test,Predict_SVM,average='macro')\n",
    "f1_LGBM = f1_score(y_test,Predict_LGBM,average='macro')\n",
    "\n",
    "print('LR:',f1_LR)\n",
    "print('LDA:',f1_LDA)\n",
    "print('KNN:',f1_KNN)\n",
    "print('CART:',f1_CART)\n",
    "print('NB:',f1_NB)\n",
    "print('SVM:',f1_SVM)\n",
    "print('LGBM:',f1_LGBM)"
   ]
  },
  {
   "cell_type": "markdown",
   "id": "a53ae462",
   "metadata": {},
   "source": [
    "### Based on f1 score, CART and LGBM are still our top choice"
   ]
  },
  {
   "cell_type": "code",
   "execution_count": 79,
   "id": "04eb89af",
   "metadata": {
    "scrolled": true
   },
   "outputs": [
    {
     "name": "stderr",
     "output_type": "stream",
     "text": [
      "C:\\Users\\Administrator\\anaconda3\\envs\\MLDV\\Lib\\site-packages\\sklearn\\metrics\\_classification.py:1344: UndefinedMetricWarning: Precision and F-score are ill-defined and being set to 0.0 in labels with no predicted samples. Use `zero_division` parameter to control this behavior.\n",
      "  _warn_prf(average, modifier, msg_start, len(result))\n",
      "C:\\Users\\Administrator\\anaconda3\\envs\\MLDV\\Lib\\site-packages\\sklearn\\metrics\\_classification.py:1344: UndefinedMetricWarning: Precision and F-score are ill-defined and being set to 0.0 in labels with no predicted samples. Use `zero_division` parameter to control this behavior.\n",
      "  _warn_prf(average, modifier, msg_start, len(result))\n",
      "C:\\Users\\Administrator\\anaconda3\\envs\\MLDV\\Lib\\site-packages\\sklearn\\metrics\\_classification.py:1344: UndefinedMetricWarning: Precision and F-score are ill-defined and being set to 0.0 in labels with no predicted samples. Use `zero_division` parameter to control this behavior.\n",
      "  _warn_prf(average, modifier, msg_start, len(result))\n"
     ]
    },
    {
     "name": "stdout",
     "output_type": "stream",
     "text": [
      "LR:\n",
      "                  precision    recall  f1-score   support\n",
      "\n",
      "          Books       0.00      0.00      0.00      1483\n",
      "       Clothing       1.00      1.00      1.00     10391\n",
      "      Cosmetics       0.59      0.84      0.70      4460\n",
      "Food & Beverage       0.51      1.00      0.68      4401\n",
      "          Shoes       0.91      1.00      0.95      3013\n",
      "       Souvenir       0.00      0.00      0.00      1567\n",
      "     Technology       1.00      0.80      0.89      1488\n",
      "           Toys       0.00      0.00      0.00      3029\n",
      "\n",
      "       accuracy                           0.76     29832\n",
      "      macro avg       0.50      0.58      0.53     29832\n",
      "   weighted avg       0.65      0.76      0.69     29832\n",
      "\n"
     ]
    },
    {
     "name": "stderr",
     "output_type": "stream",
     "text": [
      "C:\\Users\\Administrator\\anaconda3\\envs\\MLDV\\Lib\\site-packages\\sklearn\\metrics\\_classification.py:1344: UndefinedMetricWarning: Precision and F-score are ill-defined and being set to 0.0 in labels with no predicted samples. Use `zero_division` parameter to control this behavior.\n",
      "  _warn_prf(average, modifier, msg_start, len(result))\n",
      "C:\\Users\\Administrator\\anaconda3\\envs\\MLDV\\Lib\\site-packages\\sklearn\\metrics\\_classification.py:1344: UndefinedMetricWarning: Precision and F-score are ill-defined and being set to 0.0 in labels with no predicted samples. Use `zero_division` parameter to control this behavior.\n",
      "  _warn_prf(average, modifier, msg_start, len(result))\n",
      "C:\\Users\\Administrator\\anaconda3\\envs\\MLDV\\Lib\\site-packages\\sklearn\\metrics\\_classification.py:1344: UndefinedMetricWarning: Precision and F-score are ill-defined and being set to 0.0 in labels with no predicted samples. Use `zero_division` parameter to control this behavior.\n",
      "  _warn_prf(average, modifier, msg_start, len(result))\n"
     ]
    },
    {
     "name": "stdout",
     "output_type": "stream",
     "text": [
      "LDA:\n",
      "                  precision    recall  f1-score   support\n",
      "\n",
      "          Books       0.00      0.00      0.00      1483\n",
      "       Clothing       0.66      1.00      0.79     10391\n",
      "      Cosmetics       0.21      0.21      0.21      4460\n",
      "Food & Beverage       0.36      0.55      0.43      4401\n",
      "          Shoes       0.80      0.39      0.52      3013\n",
      "       Souvenir       0.00      0.00      0.00      1567\n",
      "     Technology       0.60      0.61      0.60      1488\n",
      "           Toys       0.00      0.00      0.00      3029\n",
      "\n",
      "       accuracy                           0.53     29832\n",
      "      macro avg       0.33      0.34      0.32     29832\n",
      "   weighted avg       0.42      0.53      0.45     29832\n",
      "\n",
      "KNN:\n",
      "                  precision    recall  f1-score   support\n",
      "\n",
      "          Books       0.50      0.48      0.49      1483\n",
      "       Clothing       1.00      1.00      1.00     10391\n",
      "      Cosmetics       0.65      0.75      0.70      4460\n",
      "Food & Beverage       0.81      0.95      0.88      4401\n",
      "          Shoes       0.92      0.96      0.94      3013\n",
      "       Souvenir       0.43      0.27      0.33      1567\n",
      "     Technology       0.91      0.84      0.87      1488\n",
      "           Toys       0.52      0.39      0.45      3029\n",
      "\n",
      "       accuracy                           0.82     29832\n",
      "      macro avg       0.72      0.70      0.71     29832\n",
      "   weighted avg       0.80      0.82      0.81     29832\n",
      "\n",
      "CART:\n",
      "                  precision    recall  f1-score   support\n",
      "\n",
      "          Books       0.58      0.68      0.63      1483\n",
      "       Clothing       1.00      1.00      1.00     10391\n",
      "      Cosmetics       0.66      0.84      0.74      4460\n",
      "Food & Beverage       0.93      0.99      0.96      4401\n",
      "          Shoes       0.92      0.97      0.94      3013\n",
      "       Souvenir       0.51      0.33      0.40      1567\n",
      "     Technology       0.94      0.82      0.88      1488\n",
      "           Toys       0.60      0.36      0.45      3029\n",
      "\n",
      "       accuracy                           0.85     29832\n",
      "      macro avg       0.77      0.75      0.75     29832\n",
      "   weighted avg       0.84      0.85      0.84     29832\n",
      "\n"
     ]
    },
    {
     "name": "stderr",
     "output_type": "stream",
     "text": [
      "C:\\Users\\Administrator\\anaconda3\\envs\\MLDV\\Lib\\site-packages\\sklearn\\metrics\\_classification.py:1344: UndefinedMetricWarning: Precision and F-score are ill-defined and being set to 0.0 in labels with no predicted samples. Use `zero_division` parameter to control this behavior.\n",
      "  _warn_prf(average, modifier, msg_start, len(result))\n",
      "C:\\Users\\Administrator\\anaconda3\\envs\\MLDV\\Lib\\site-packages\\sklearn\\metrics\\_classification.py:1344: UndefinedMetricWarning: Precision and F-score are ill-defined and being set to 0.0 in labels with no predicted samples. Use `zero_division` parameter to control this behavior.\n",
      "  _warn_prf(average, modifier, msg_start, len(result))\n",
      "C:\\Users\\Administrator\\anaconda3\\envs\\MLDV\\Lib\\site-packages\\sklearn\\metrics\\_classification.py:1344: UndefinedMetricWarning: Precision and F-score are ill-defined and being set to 0.0 in labels with no predicted samples. Use `zero_division` parameter to control this behavior.\n",
      "  _warn_prf(average, modifier, msg_start, len(result))\n"
     ]
    },
    {
     "name": "stdout",
     "output_type": "stream",
     "text": [
      "NB:\n",
      "                  precision    recall  f1-score   support\n",
      "\n",
      "          Books       0.16      0.17      0.16      1483\n",
      "       Clothing       0.78      1.00      0.87     10391\n",
      "      Cosmetics       0.49      0.80      0.61      4460\n",
      "Food & Beverage       0.78      1.00      0.88      4401\n",
      "          Shoes       0.00      0.00      0.00      3013\n",
      "       Souvenir       0.18      0.05      0.08      1567\n",
      "     Technology       0.60      0.61      0.60      1488\n",
      "           Toys       0.00      0.00      0.00      3029\n",
      "\n",
      "       accuracy                           0.66     29832\n",
      "      macro avg       0.37      0.45      0.40     29832\n",
      "   weighted avg       0.51      0.66      0.57     29832\n",
      "\n"
     ]
    },
    {
     "name": "stderr",
     "output_type": "stream",
     "text": [
      "C:\\Users\\Administrator\\anaconda3\\envs\\MLDV\\Lib\\site-packages\\sklearn\\metrics\\_classification.py:1344: UndefinedMetricWarning: Precision and F-score are ill-defined and being set to 0.0 in labels with no predicted samples. Use `zero_division` parameter to control this behavior.\n",
      "  _warn_prf(average, modifier, msg_start, len(result))\n",
      "C:\\Users\\Administrator\\anaconda3\\envs\\MLDV\\Lib\\site-packages\\sklearn\\metrics\\_classification.py:1344: UndefinedMetricWarning: Precision and F-score are ill-defined and being set to 0.0 in labels with no predicted samples. Use `zero_division` parameter to control this behavior.\n",
      "  _warn_prf(average, modifier, msg_start, len(result))\n",
      "C:\\Users\\Administrator\\anaconda3\\envs\\MLDV\\Lib\\site-packages\\sklearn\\metrics\\_classification.py:1344: UndefinedMetricWarning: Precision and F-score are ill-defined and being set to 0.0 in labels with no predicted samples. Use `zero_division` parameter to control this behavior.\n",
      "  _warn_prf(average, modifier, msg_start, len(result))\n"
     ]
    },
    {
     "name": "stdout",
     "output_type": "stream",
     "text": [
      "SVM:\n",
      "                  precision    recall  f1-score   support\n",
      "\n",
      "          Books       0.00      0.00      0.00      1483\n",
      "       Clothing       1.00      1.00      1.00     10391\n",
      "      Cosmetics       0.49      0.97      0.65      4460\n",
      "Food & Beverage       0.61      0.84      0.71      4401\n",
      "          Shoes       0.84      1.00      0.91      3013\n",
      "       Souvenir       0.00      0.00      0.00      1567\n",
      "     Technology       1.00      0.60      0.75      1488\n",
      "           Toys       0.00      0.00      0.00      3029\n",
      "\n",
      "       accuracy                           0.75     29832\n",
      "      macro avg       0.49      0.55      0.50     29832\n",
      "   weighted avg       0.65      0.75      0.68     29832\n",
      "\n",
      "LGBM:\n",
      "                  precision    recall  f1-score   support\n",
      "\n",
      "          Books       0.59      0.63      0.61      1483\n",
      "       Clothing       1.00      1.00      1.00     10391\n",
      "      Cosmetics       0.65      0.92      0.76      4460\n",
      "Food & Beverage       0.93      0.99      0.96      4401\n",
      "          Shoes       0.92      0.97      0.94      3013\n",
      "       Souvenir       0.51      0.38      0.43      1567\n",
      "     Technology       0.93      0.82      0.87      1488\n",
      "           Toys       0.70      0.28      0.40      3029\n",
      "\n",
      "       accuracy                           0.85     29832\n",
      "      macro avg       0.78      0.75      0.75     29832\n",
      "   weighted avg       0.85      0.85      0.84     29832\n",
      "\n"
     ]
    }
   ],
   "source": [
    "print('LR:\\n',classification_report(y_test, Predict_LR))\n",
    "print('LDA:\\n',classification_report(y_test, Predict_LDA))\n",
    "print('KNN:\\n',classification_report(y_test, Predict_KNN))\n",
    "print('CART:\\n',classification_report(y_test, Predict_CART))\n",
    "print('NB:\\n',classification_report(y_test, Predict_NB))\n",
    "print('SVM:\\n',classification_report(y_test, Predict_SVM))\n",
    "print('LGBM:\\n',classification_report(y_test, Predict_LGBM))"
   ]
  },
  {
   "cell_type": "markdown",
   "id": "1d1cb28f",
   "metadata": {},
   "source": [
    "### Based on the clasification report, our best models are CART and LGBM, i will time both of them and select the one that is faster"
   ]
  },
  {
   "cell_type": "code",
   "execution_count": 80,
   "id": "5ae4d0e1",
   "metadata": {},
   "outputs": [],
   "source": [
    "import time"
   ]
  },
  {
   "cell_type": "code",
   "execution_count": 81,
   "id": "a3c3bf5b",
   "metadata": {},
   "outputs": [
    {
     "name": "stdout",
     "output_type": "stream",
     "text": [
      "Prediction Time: 0.0056 seconds\n"
     ]
    }
   ],
   "source": [
    "start_time = time.time()\n",
    "model = CART\n",
    "predictions = model.predict(X_test_scaled)\n",
    "prediction_time = time.time() - start_time\n",
    "print(f'Prediction Time: {prediction_time:.4f} seconds')"
   ]
  },
  {
   "cell_type": "code",
   "execution_count": 82,
   "id": "a07170b5",
   "metadata": {},
   "outputs": [
    {
     "name": "stdout",
     "output_type": "stream",
     "text": [
      "Prediction Time: 0.1961 seconds\n"
     ]
    }
   ],
   "source": [
    "start_time = time.time()\n",
    "model = LGBM\n",
    "predictions = model.predict(X_test_scaled)\n",
    "prediction_time = time.time() - start_time\n",
    "print(f'Prediction Time: {prediction_time:.4f} seconds')"
   ]
  },
  {
   "cell_type": "markdown",
   "id": "8970b1a6",
   "metadata": {},
   "source": [
    "### Based on time, we can see that CART is faster therefore, i will select CART as my model"
   ]
  },
  {
   "cell_type": "code",
   "execution_count": 83,
   "id": "3361dced",
   "metadata": {},
   "outputs": [
    {
     "data": {
      "text/plain": [
       "['model_CART_classifier.pkl']"
      ]
     },
     "execution_count": 83,
     "metadata": {},
     "output_type": "execute_result"
    }
   ],
   "source": [
    "#Saving the CART trained model\n",
    "\n",
    "import joblib\n",
    "joblib.dump(CART,\"model_CART_classifier.pkl\")\n"
   ]
  },
  {
   "cell_type": "markdown",
   "id": "b4be6aa5",
   "metadata": {},
   "source": [
    "## Now we will perform feature selection"
   ]
  },
  {
   "cell_type": "code",
   "execution_count": 84,
   "id": "3103857b",
   "metadata": {},
   "outputs": [],
   "source": [
    "model = CART\n"
   ]
  },
  {
   "cell_type": "code",
   "execution_count": 85,
   "id": "0f06ef94",
   "metadata": {},
   "outputs": [],
   "source": [
    "encoded_columns = np.array(['age', 'quantity', 'price_median', 'gender_Female', 'gender_Male',\n",
    "       'payment_method_Cash', 'payment_method_Credit Card',\n",
    "       'payment_method_Debit Card'])"
   ]
  },
  {
   "cell_type": "code",
   "execution_count": 86,
   "id": "e8e72dc3",
   "metadata": {},
   "outputs": [],
   "source": [
    "importance = model.feature_importances_"
   ]
  },
  {
   "cell_type": "code",
   "execution_count": 87,
   "id": "b3dbb5d7",
   "metadata": {},
   "outputs": [],
   "source": [
    "feature_indexes_by_importance = importance.argsort()"
   ]
  },
  {
   "cell_type": "code",
   "execution_count": 88,
   "id": "83d25f3f",
   "metadata": {},
   "outputs": [
    {
     "name": "stdout",
     "output_type": "stream",
     "text": [
      "payment_method_Credit Card - 0.17%\n",
      "payment_method_Debit Card - 0.18%\n",
      "gender_Female - 0.19%\n",
      "gender_Male - 0.19%\n",
      "payment_method_Cash - 0.19%\n",
      "age - 1.92%\n",
      "quantity - 17.44%\n",
      "price_median - 79.72%\n"
     ]
    }
   ],
   "source": [
    "# Print each feature label, from least important to most important\n",
    "for index in feature_indexes_by_importance:\n",
    "    print(\"{} - {:.2f}%\".format(encoded_columns[index], (importance[index] * 100.0)))"
   ]
  },
  {
   "cell_type": "markdown",
   "id": "37752540",
   "metadata": {},
   "source": [
    "### i will remove the gender_male, gender_female and payment_method_Credit Card , payment_method_Debit Card , payment_method_Cash columns since it has a low weightage"
   ]
  },
  {
   "cell_type": "code",
   "execution_count": 89,
   "id": "705a6a09",
   "metadata": {},
   "outputs": [],
   "source": [
    "columns_to_drop = ['gender_Female', 'gender_Male','payment_method_Cash', 'payment_method_Credit Card','payment_method_Debit Card']\n",
    "merged_data_encoded = merged_data_encoded.drop(columns=columns_to_drop)"
   ]
  },
  {
   "cell_type": "code",
   "execution_count": 90,
   "id": "8da79825",
   "metadata": {},
   "outputs": [
    {
     "name": "stdout",
     "output_type": "stream",
     "text": [
      "Index(['age', 'quantity', 'price_median'], dtype='object')\n"
     ]
    }
   ],
   "source": [
    "print(merged_data_encoded.columns) #columns are dropped"
   ]
  },
  {
   "cell_type": "code",
   "execution_count": 91,
   "id": "d6d65f4e",
   "metadata": {},
   "outputs": [],
   "source": [
    "X = merged_data_encoded.values\n",
    "y = merged_data['category'].values"
   ]
  },
  {
   "cell_type": "code",
   "execution_count": 92,
   "id": "b9d3f55f",
   "metadata": {},
   "outputs": [],
   "source": [
    "X_train, X_test, y_train, y_test = train_test_split(X, y, test_size=0.3, random_state=7)"
   ]
  },
  {
   "cell_type": "code",
   "execution_count": 93,
   "id": "f242c88d",
   "metadata": {},
   "outputs": [],
   "source": [
    "# Fit and transform the X_train data\n",
    "X_train_scaled = scaler_X.fit_transform(X_train)"
   ]
  },
  {
   "cell_type": "code",
   "execution_count": 94,
   "id": "c17e9798",
   "metadata": {},
   "outputs": [],
   "source": [
    "# Transform the X_test data\n",
    "X_test_scaled = scaler_X.transform(X_test)"
   ]
  },
  {
   "cell_type": "markdown",
   "id": "f4a66ae3",
   "metadata": {},
   "source": [
    "## we will now export our scaler to apply it when predicting"
   ]
  },
  {
   "cell_type": "code",
   "execution_count": 95,
   "id": "11a4222b",
   "metadata": {},
   "outputs": [
    {
     "data": {
      "text/plain": [
       "['MinMax_scaler_model.joblib']"
      ]
     },
     "execution_count": 95,
     "metadata": {},
     "output_type": "execute_result"
    }
   ],
   "source": [
    "joblib.dump(scaler_X, 'MinMax_scaler_model.joblib')\n"
   ]
  },
  {
   "cell_type": "code",
   "execution_count": 96,
   "id": "b5d2654e",
   "metadata": {},
   "outputs": [
    {
     "data": {
      "text/html": [
       "<style>#sk-container-id-2 {color: black;background-color: white;}#sk-container-id-2 pre{padding: 0;}#sk-container-id-2 div.sk-toggleable {background-color: white;}#sk-container-id-2 label.sk-toggleable__label {cursor: pointer;display: block;width: 100%;margin-bottom: 0;padding: 0.3em;box-sizing: border-box;text-align: center;}#sk-container-id-2 label.sk-toggleable__label-arrow:before {content: \"▸\";float: left;margin-right: 0.25em;color: #696969;}#sk-container-id-2 label.sk-toggleable__label-arrow:hover:before {color: black;}#sk-container-id-2 div.sk-estimator:hover label.sk-toggleable__label-arrow:before {color: black;}#sk-container-id-2 div.sk-toggleable__content {max-height: 0;max-width: 0;overflow: hidden;text-align: left;background-color: #f0f8ff;}#sk-container-id-2 div.sk-toggleable__content pre {margin: 0.2em;color: black;border-radius: 0.25em;background-color: #f0f8ff;}#sk-container-id-2 input.sk-toggleable__control:checked~div.sk-toggleable__content {max-height: 200px;max-width: 100%;overflow: auto;}#sk-container-id-2 input.sk-toggleable__control:checked~label.sk-toggleable__label-arrow:before {content: \"▾\";}#sk-container-id-2 div.sk-estimator input.sk-toggleable__control:checked~label.sk-toggleable__label {background-color: #d4ebff;}#sk-container-id-2 div.sk-label input.sk-toggleable__control:checked~label.sk-toggleable__label {background-color: #d4ebff;}#sk-container-id-2 input.sk-hidden--visually {border: 0;clip: rect(1px 1px 1px 1px);clip: rect(1px, 1px, 1px, 1px);height: 1px;margin: -1px;overflow: hidden;padding: 0;position: absolute;width: 1px;}#sk-container-id-2 div.sk-estimator {font-family: monospace;background-color: #f0f8ff;border: 1px dotted black;border-radius: 0.25em;box-sizing: border-box;margin-bottom: 0.5em;}#sk-container-id-2 div.sk-estimator:hover {background-color: #d4ebff;}#sk-container-id-2 div.sk-parallel-item::after {content: \"\";width: 100%;border-bottom: 1px solid gray;flex-grow: 1;}#sk-container-id-2 div.sk-label:hover label.sk-toggleable__label {background-color: #d4ebff;}#sk-container-id-2 div.sk-serial::before {content: \"\";position: absolute;border-left: 1px solid gray;box-sizing: border-box;top: 0;bottom: 0;left: 50%;z-index: 0;}#sk-container-id-2 div.sk-serial {display: flex;flex-direction: column;align-items: center;background-color: white;padding-right: 0.2em;padding-left: 0.2em;position: relative;}#sk-container-id-2 div.sk-item {position: relative;z-index: 1;}#sk-container-id-2 div.sk-parallel {display: flex;align-items: stretch;justify-content: center;background-color: white;position: relative;}#sk-container-id-2 div.sk-item::before, #sk-container-id-2 div.sk-parallel-item::before {content: \"\";position: absolute;border-left: 1px solid gray;box-sizing: border-box;top: 0;bottom: 0;left: 50%;z-index: -1;}#sk-container-id-2 div.sk-parallel-item {display: flex;flex-direction: column;z-index: 1;position: relative;background-color: white;}#sk-container-id-2 div.sk-parallel-item:first-child::after {align-self: flex-end;width: 50%;}#sk-container-id-2 div.sk-parallel-item:last-child::after {align-self: flex-start;width: 50%;}#sk-container-id-2 div.sk-parallel-item:only-child::after {width: 0;}#sk-container-id-2 div.sk-dashed-wrapped {border: 1px dashed gray;margin: 0 0.4em 0.5em 0.4em;box-sizing: border-box;padding-bottom: 0.4em;background-color: white;}#sk-container-id-2 div.sk-label label {font-family: monospace;font-weight: bold;display: inline-block;line-height: 1.2em;}#sk-container-id-2 div.sk-label-container {text-align: center;}#sk-container-id-2 div.sk-container {/* jupyter's `normalize.less` sets `[hidden] { display: none; }` but bootstrap.min.css set `[hidden] { display: none !important; }` so we also need the `!important` here to be able to override the default hidden behavior on the sphinx rendered scikit-learn.org. See: https://github.com/scikit-learn/scikit-learn/issues/21755 */display: inline-block !important;position: relative;}#sk-container-id-2 div.sk-text-repr-fallback {display: none;}</style><div id=\"sk-container-id-2\" class=\"sk-top-container\"><div class=\"sk-text-repr-fallback\"><pre>DecisionTreeClassifier()</pre><b>In a Jupyter environment, please rerun this cell to show the HTML representation or trust the notebook. <br />On GitHub, the HTML representation is unable to render, please try loading this page with nbviewer.org.</b></div><div class=\"sk-container\" hidden><div class=\"sk-item\"><div class=\"sk-estimator sk-toggleable\"><input class=\"sk-toggleable__control sk-hidden--visually\" id=\"sk-estimator-id-2\" type=\"checkbox\" checked><label for=\"sk-estimator-id-2\" class=\"sk-toggleable__label sk-toggleable__label-arrow\">DecisionTreeClassifier</label><div class=\"sk-toggleable__content\"><pre>DecisionTreeClassifier()</pre></div></div></div></div></div>"
      ],
      "text/plain": [
       "DecisionTreeClassifier()"
      ]
     },
     "execution_count": 96,
     "metadata": {},
     "output_type": "execute_result"
    }
   ],
   "source": [
    "CART.fit(X_train_scaled,y_train)"
   ]
  },
  {
   "cell_type": "code",
   "execution_count": 97,
   "id": "c67ed547",
   "metadata": {
    "scrolled": false
   },
   "outputs": [
    {
     "name": "stdout",
     "output_type": "stream",
     "text": [
      "CART:\n",
      "                  precision    recall  f1-score   support\n",
      "\n",
      "          Books       0.58      0.66      0.62      1483\n",
      "       Clothing       1.00      1.00      1.00     10391\n",
      "      Cosmetics       0.65      0.99      0.78      4460\n",
      "Food & Beverage       0.93      1.00      0.96      4401\n",
      "          Shoes       0.91      1.00      0.95      3013\n",
      "       Souvenir       0.51      0.33      0.40      1567\n",
      "     Technology       1.00      0.80      0.89      1488\n",
      "           Toys       0.95      0.21      0.34      3029\n",
      "\n",
      "       accuracy                           0.86     29832\n",
      "      macro avg       0.82      0.75      0.74     29832\n",
      "   weighted avg       0.88      0.86      0.83     29832\n",
      "\n"
     ]
    }
   ],
   "source": [
    "print('CART:\\n',classification_report(y_test, CART.predict(X_test_scaled)))"
   ]
  },
  {
   "cell_type": "code",
   "execution_count": 98,
   "id": "aabc0a3d",
   "metadata": {},
   "outputs": [
    {
     "data": {
      "text/plain": [
       "['model_CART_classifier_with_feature_selection.pkl']"
      ]
     },
     "execution_count": 98,
     "metadata": {},
     "output_type": "execute_result"
    }
   ],
   "source": [
    "import joblib\n",
    "joblib.dump(CART,\"model_CART_classifier_with_feature_selection.pkl\")\n"
   ]
  },
  {
   "cell_type": "markdown",
   "id": "37a393b1",
   "metadata": {},
   "source": [
    "### our f1 score and precision have improved"
   ]
  },
  {
   "cell_type": "markdown",
   "id": "78df14e8",
   "metadata": {},
   "source": [
    "### we will now perform hyperparameter tunning using optuna"
   ]
  },
  {
   "cell_type": "code",
   "execution_count": 99,
   "id": "7a4ac970",
   "metadata": {},
   "outputs": [],
   "source": [
    "import optuna\n",
    "from time import time\n",
    "from sklearn.model_selection import cross_val_score"
   ]
  },
  {
   "cell_type": "code",
   "execution_count": 100,
   "id": "3652b6a6",
   "metadata": {},
   "outputs": [
    {
     "name": "stderr",
     "output_type": "stream",
     "text": [
      "[I 2023-11-28 14:52:59,511] A new study created in memory with name: no-name-efa0275d-47f3-4fea-8bf1-3e665a65fca1\n",
      "[I 2023-11-28 14:53:02,384] Trial 0 finished with value: 0.8566194957258819 and parameters: {'criterion': 'entropy', 'max_depth': 25, 'splitter': 'best', 'min_samples_split': 4, 'min_samples_leaf': 7}. Best is trial 0 with value: 0.8566194957258819.\n",
      "[I 2023-11-28 14:53:03,847] Trial 1 finished with value: 0.8585446447812657 and parameters: {'criterion': 'log_loss', 'max_depth': 9, 'splitter': 'best', 'min_samples_split': 5, 'min_samples_leaf': 9}. Best is trial 0 with value: 0.8566194957258819.\n",
      "[I 2023-11-28 14:53:05,133] Trial 2 finished with value: 0.8576539041735508 and parameters: {'criterion': 'gini', 'max_depth': 13, 'splitter': 'best', 'min_samples_split': 17, 'min_samples_leaf': 1}. Best is trial 0 with value: 0.8566194957258819.\n",
      "[I 2023-11-28 14:53:05,539] Trial 3 finished with value: 0.8566769628618633 and parameters: {'criterion': 'gini', 'max_depth': 30, 'splitter': 'random', 'min_samples_split': 13, 'min_samples_leaf': 4}. Best is trial 0 with value: 0.8566194957258819.\n",
      "[I 2023-11-28 14:53:05,963] Trial 4 finished with value: 0.8565620285899002 and parameters: {'criterion': 'gini', 'max_depth': 20, 'splitter': 'best', 'min_samples_split': 16, 'min_samples_leaf': 8}. Best is trial 4 with value: 0.8565620285899002.\n",
      "[I 2023-11-28 14:53:06,347] Trial 5 finished with value: 0.8565763953738955 and parameters: {'criterion': 'gini', 'max_depth': 23, 'splitter': 'random', 'min_samples_split': 16, 'min_samples_leaf': 10}. Best is trial 4 with value: 0.8565620285899002.\n",
      "[I 2023-11-28 14:53:06,745] Trial 6 finished with value: 0.8562459593420014 and parameters: {'criterion': 'gini', 'max_depth': 14, 'splitter': 'random', 'min_samples_split': 18, 'min_samples_leaf': 7}. Best is trial 6 with value: 0.8562459593420014.\n",
      "[I 2023-11-28 14:53:07,153] Trial 7 finished with value: 0.858271675885353 and parameters: {'criterion': 'entropy', 'max_depth': 11, 'splitter': 'best', 'min_samples_split': 20, 'min_samples_leaf': 3}. Best is trial 6 with value: 0.8562459593420014.\n",
      "[I 2023-11-28 14:53:07,533] Trial 8 finished with value: 0.857697004525537 and parameters: {'criterion': 'log_loss', 'max_depth': 15, 'splitter': 'random', 'min_samples_split': 5, 'min_samples_leaf': 2}. Best is trial 6 with value: 0.8562459593420014.\n",
      "[I 2023-11-28 14:53:07,935] Trial 9 finished with value: 0.8566482292938726 and parameters: {'criterion': 'log_loss', 'max_depth': 27, 'splitter': 'random', 'min_samples_split': 12, 'min_samples_leaf': 2}. Best is trial 6 with value: 0.8562459593420014.\n",
      "[I 2023-11-28 14:53:08,333] Trial 10 finished with value: 0.5186840025860212 and parameters: {'criterion': 'gini', 'max_depth': 3, 'splitter': 'random', 'min_samples_split': 9, 'min_samples_leaf': 6}. Best is trial 10 with value: 0.5186840025860212.\n",
      "[I 2023-11-28 14:53:08,712] Trial 11 finished with value: 0.7257380935277638 and parameters: {'criterion': 'gini', 'max_depth': 5, 'splitter': 'random', 'min_samples_split': 9, 'min_samples_leaf': 6}. Best is trial 10 with value: 0.5186840025860212.\n",
      "[I 2023-11-28 14:53:09,096] Trial 12 finished with value: 0.5451332519215574 and parameters: {'criterion': 'gini', 'max_depth': 3, 'splitter': 'random', 'min_samples_split': 8, 'min_samples_leaf': 5}. Best is trial 10 with value: 0.5186840025860212.\n",
      "[I 2023-11-28 14:53:09,482] Trial 13 finished with value: 0.5371309532361181 and parameters: {'criterion': 'gini', 'max_depth': 3, 'splitter': 'random', 'min_samples_split': 8, 'min_samples_leaf': 5}. Best is trial 10 with value: 0.5186840025860212.\n",
      "[I 2023-11-28 14:53:09,911] Trial 14 finished with value: 0.8316069247898857 and parameters: {'criterion': 'gini', 'max_depth': 7, 'splitter': 'random', 'min_samples_split': 8, 'min_samples_leaf': 5}. Best is trial 10 with value: 0.5186840025860212.\n",
      "[I 2023-11-28 14:53:10,302] Trial 15 finished with value: 0.5521873428633001 and parameters: {'criterion': 'entropy', 'max_depth': 3, 'splitter': 'random', 'min_samples_split': 2, 'min_samples_leaf': 6}. Best is trial 10 with value: 0.5186840025860212.\n",
      "[I 2023-11-28 14:53:10,759] Trial 16 finished with value: 0.8571223331657208 and parameters: {'criterion': 'gini', 'max_depth': 19, 'splitter': 'random', 'min_samples_split': 10, 'min_samples_leaf': 4}. Best is trial 10 with value: 0.5186840025860212.\n",
      "[I 2023-11-28 14:53:11,212] Trial 17 finished with value: 0.8229293872566628 and parameters: {'criterion': 'gini', 'max_depth': 7, 'splitter': 'random', 'min_samples_split': 13, 'min_samples_leaf': 7}. Best is trial 10 with value: 0.5186840025860212.\n",
      "[I 2023-11-28 14:53:11,633] Trial 18 finished with value: 0.8587314129732061 and parameters: {'criterion': 'entropy', 'max_depth': 10, 'splitter': 'random', 'min_samples_split': 6, 'min_samples_leaf': 4}. Best is trial 10 with value: 0.5186840025860212.\n",
      "[I 2023-11-28 14:53:12,059] Trial 19 finished with value: 0.8116514618202716 and parameters: {'criterion': 'log_loss', 'max_depth': 6, 'splitter': 'random', 'min_samples_split': 11, 'min_samples_leaf': 8}. Best is trial 10 with value: 0.5186840025860212.\n",
      "[I 2023-11-28 14:53:12,472] Trial 20 finished with value: 0.521428058329143 and parameters: {'criterion': 'gini', 'max_depth': 3, 'splitter': 'random', 'min_samples_split': 7, 'min_samples_leaf': 5}. Best is trial 10 with value: 0.5186840025860212.\n",
      "[I 2023-11-28 14:53:12,891] Trial 21 finished with value: 0.5124631851160117 and parameters: {'criterion': 'gini', 'max_depth': 3, 'splitter': 'random', 'min_samples_split': 7, 'min_samples_leaf': 5}. Best is trial 21 with value: 0.5124631851160117.\n",
      "[I 2023-11-28 14:53:13,296] Trial 22 finished with value: 0.8292795057826305 and parameters: {'criterion': 'gini', 'max_depth': 8, 'splitter': 'random', 'min_samples_split': 7, 'min_samples_leaf': 6}. Best is trial 21 with value: 0.5124631851160117.\n",
      "[I 2023-11-28 14:53:13,699] Trial 23 finished with value: 0.7333955893973134 and parameters: {'criterion': 'gini', 'max_depth': 5, 'splitter': 'random', 'min_samples_split': 3, 'min_samples_leaf': 3}. Best is trial 21 with value: 0.5124631851160117.\n",
      "[I 2023-11-28 14:53:14,240] Trial 24 finished with value: 0.8573953020616335 and parameters: {'criterion': 'gini', 'max_depth': 12, 'splitter': 'random', 'min_samples_split': 10, 'min_samples_leaf': 5}. Best is trial 21 with value: 0.5124631851160117.\n",
      "[I 2023-11-28 14:53:14,647] Trial 25 finished with value: 0.6823647726456433 and parameters: {'criterion': 'gini', 'max_depth': 4, 'splitter': 'random', 'min_samples_split': 7, 'min_samples_leaf': 4}. Best is trial 21 with value: 0.5124631851160117.\n",
      "[I 2023-11-28 14:53:15,083] Trial 26 finished with value: 0.8588319804611737 and parameters: {'criterion': 'gini', 'max_depth': 8, 'splitter': 'best', 'min_samples_split': 6, 'min_samples_leaf': 6}. Best is trial 21 with value: 0.5124631851160117.\n",
      "[I 2023-11-28 14:53:15,499] Trial 27 finished with value: 0.8568062639178219 and parameters: {'criterion': 'gini', 'max_depth': 17, 'splitter': 'random', 'min_samples_split': 14, 'min_samples_leaf': 8}. Best is trial 21 with value: 0.5124631851160117.\n",
      "[I 2023-11-28 14:53:15,916] Trial 28 finished with value: 0.8151138567631635 and parameters: {'criterion': 'log_loss', 'max_depth': 6, 'splitter': 'random', 'min_samples_split': 10, 'min_samples_leaf': 7}. Best is trial 21 with value: 0.5124631851160117.\n",
      "[I 2023-11-28 14:53:16,362] Trial 29 finished with value: 0.8584297105093025 and parameters: {'criterion': 'entropy', 'max_depth': 10, 'splitter': 'best', 'min_samples_split': 3, 'min_samples_leaf': 3}. Best is trial 21 with value: 0.5124631851160117.\n",
      "[I 2023-11-28 14:53:16,766] Trial 30 finished with value: 0.5321169456217225 and parameters: {'criterion': 'entropy', 'max_depth': 3, 'splitter': 'random', 'min_samples_split': 6, 'min_samples_leaf': 6}. Best is trial 21 with value: 0.5124631851160117.\n",
      "[I 2023-11-28 14:53:17,190] Trial 31 finished with value: 0.7485812800804539 and parameters: {'criterion': 'entropy', 'max_depth': 5, 'splitter': 'random', 'min_samples_split': 5, 'min_samples_leaf': 6}. Best is trial 21 with value: 0.5124631851160117.\n",
      "[I 2023-11-28 14:53:17,591] Trial 32 finished with value: 0.5526758135191437 and parameters: {'criterion': 'entropy', 'max_depth': 3, 'splitter': 'random', 'min_samples_split': 4, 'min_samples_leaf': 5}. Best is trial 21 with value: 0.5124631851160117.\n"
     ]
    },
    {
     "name": "stderr",
     "output_type": "stream",
     "text": [
      "[I 2023-11-28 14:53:17,994] Trial 33 finished with value: 0.7039293154227426 and parameters: {'criterion': 'entropy', 'max_depth': 5, 'splitter': 'random', 'min_samples_split': 6, 'min_samples_leaf': 7}. Best is trial 21 with value: 0.5124631851160117.\n",
      "[I 2023-11-28 14:53:18,439] Trial 34 finished with value: 0.8588319804611737 and parameters: {'criterion': 'entropy', 'max_depth': 8, 'splitter': 'best', 'min_samples_split': 9, 'min_samples_leaf': 4}. Best is trial 21 with value: 0.5124631851160117.\n",
      "[I 2023-11-28 14:53:18,837] Trial 35 finished with value: 0.543868974929962 and parameters: {'criterion': 'gini', 'max_depth': 3, 'splitter': 'random', 'min_samples_split': 7, 'min_samples_leaf': 6}. Best is trial 21 with value: 0.5124631851160117.\n",
      "[I 2023-11-28 14:53:19,281] Trial 36 finished with value: 0.8585446447812657 and parameters: {'criterion': 'entropy', 'max_depth': 9, 'splitter': 'best', 'min_samples_split': 5, 'min_samples_leaf': 8}. Best is trial 21 with value: 0.5124631851160117.\n",
      "[I 2023-11-28 14:53:19,680] Trial 37 finished with value: 0.7710652970332591 and parameters: {'criterion': 'gini', 'max_depth': 6, 'splitter': 'random', 'min_samples_split': 9, 'min_samples_leaf': 9}. Best is trial 21 with value: 0.5124631851160117.\n",
      "[I 2023-11-28 14:53:20,065] Trial 38 finished with value: 0.856662596077868 and parameters: {'criterion': 'log_loss', 'max_depth': 24, 'splitter': 'random', 'min_samples_split': 4, 'min_samples_leaf': 5}. Best is trial 21 with value: 0.5124631851160117.\n",
      "[I 2023-11-28 14:53:20,498] Trial 39 finished with value: 0.8576251706055601 and parameters: {'criterion': 'gini', 'max_depth': 13, 'splitter': 'best', 'min_samples_split': 11, 'min_samples_leaf': 7}. Best is trial 21 with value: 0.5124631851160117.\n",
      "[I 2023-11-28 14:53:20,896] Trial 40 finished with value: 0.7034264779829036 and parameters: {'criterion': 'gini', 'max_depth': 4, 'splitter': 'random', 'min_samples_split': 7, 'min_samples_leaf': 4}. Best is trial 21 with value: 0.5124631851160117.\n",
      "[I 2023-11-28 14:53:21,280] Trial 41 finished with value: 0.570203289993535 and parameters: {'criterion': 'gini', 'max_depth': 3, 'splitter': 'random', 'min_samples_split': 8, 'min_samples_leaf': 5}. Best is trial 21 with value: 0.5124631851160117.\n",
      "[I 2023-11-28 14:53:21,668] Trial 42 finished with value: 0.6347101501328927 and parameters: {'criterion': 'gini', 'max_depth': 4, 'splitter': 'random', 'min_samples_split': 8, 'min_samples_leaf': 5}. Best is trial 21 with value: 0.5124631851160117.\n",
      "[I 2023-11-28 14:53:22,066] Trial 43 finished with value: 0.8357589253645571 and parameters: {'criterion': 'gini', 'max_depth': 7, 'splitter': 'random', 'min_samples_split': 9, 'min_samples_leaf': 6}. Best is trial 21 with value: 0.5124631851160117.\n",
      "[I 2023-11-28 14:53:22,480] Trial 44 finished with value: 0.8566051289418863 and parameters: {'criterion': 'gini', 'max_depth': 30, 'splitter': 'random', 'min_samples_split': 6, 'min_samples_leaf': 3}. Best is trial 21 with value: 0.5124631851160117.\n",
      "[I 2023-11-28 14:53:22,873] Trial 45 finished with value: 0.7624595934200129 and parameters: {'criterion': 'gini', 'max_depth': 5, 'splitter': 'random', 'min_samples_split': 8, 'min_samples_leaf': 7}. Best is trial 21 with value: 0.5124631851160117.\n",
      "[I 2023-11-28 14:53:23,244] Trial 46 finished with value: 0.6531283672149989 and parameters: {'criterion': 'log_loss', 'max_depth': 4, 'splitter': 'random', 'min_samples_split': 12, 'min_samples_leaf': 5}. Best is trial 21 with value: 0.5124631851160117.\n",
      "[I 2023-11-28 14:53:23,667] Trial 47 finished with value: 0.856590762157891 and parameters: {'criterion': 'gini', 'max_depth': 20, 'splitter': 'random', 'min_samples_split': 10, 'min_samples_leaf': 6}. Best is trial 21 with value: 0.5124631851160117.\n",
      "[I 2023-11-28 14:53:24,056] Trial 48 finished with value: 0.5237698441203937 and parameters: {'criterion': 'entropy', 'max_depth': 3, 'splitter': 'random', 'min_samples_split': 5, 'min_samples_leaf': 1}. Best is trial 21 with value: 0.5124631851160117.\n",
      "[I 2023-11-28 14:53:24,479] Trial 49 finished with value: 0.7925292723223907 and parameters: {'criterion': 'entropy', 'max_depth': 6, 'splitter': 'random', 'min_samples_split': 3, 'min_samples_leaf': 1}. Best is trial 21 with value: 0.5124631851160117.\n",
      "[I 2023-11-28 14:53:24,873] Trial 50 finished with value: 0.8590187486531139 and parameters: {'criterion': 'entropy', 'max_depth': 9, 'splitter': 'random', 'min_samples_split': 5, 'min_samples_leaf': 2}. Best is trial 21 with value: 0.5124631851160117.\n",
      "[I 2023-11-28 14:53:25,269] Trial 51 finished with value: 0.4997916816320666 and parameters: {'criterion': 'entropy', 'max_depth': 3, 'splitter': 'random', 'min_samples_split': 6, 'min_samples_leaf': 1}. Best is trial 51 with value: 0.4997916816320666.\n",
      "[I 2023-11-28 14:53:25,663] Trial 52 finished with value: 0.6200129301055959 and parameters: {'criterion': 'entropy', 'max_depth': 4, 'splitter': 'random', 'min_samples_split': 6, 'min_samples_leaf': 1}. Best is trial 51 with value: 0.4997916816320666.\n",
      "[I 2023-11-28 14:53:26,061] Trial 53 finished with value: 0.4921341857625171 and parameters: {'criterion': 'entropy', 'max_depth': 3, 'splitter': 'random', 'min_samples_split': 4, 'min_samples_leaf': 2}. Best is trial 53 with value: 0.4921341857625171.\n",
      "[I 2023-11-28 14:53:26,473] Trial 54 finished with value: 0.8094677106529703 and parameters: {'criterion': 'entropy', 'max_depth': 7, 'splitter': 'random', 'min_samples_split': 2, 'min_samples_leaf': 1}. Best is trial 53 with value: 0.4921341857625171.\n",
      "[I 2023-11-28 14:53:26,875] Trial 55 finished with value: 0.7416564901946698 and parameters: {'criterion': 'entropy', 'max_depth': 5, 'splitter': 'random', 'min_samples_split': 4, 'min_samples_leaf': 2}. Best is trial 53 with value: 0.4921341857625171.\n",
      "[I 2023-11-28 14:53:27,273] Trial 56 finished with value: 0.5066446375978737 and parameters: {'criterion': 'entropy', 'max_depth': 3, 'splitter': 'random', 'min_samples_split': 5, 'min_samples_leaf': 1}. Best is trial 53 with value: 0.4921341857625171.\n",
      "[I 2023-11-28 14:53:27,662] Trial 57 finished with value: 0.8152862581711083 and parameters: {'criterion': 'entropy', 'max_depth': 6, 'splitter': 'random', 'min_samples_split': 7, 'min_samples_leaf': 2}. Best is trial 53 with value: 0.4921341857625171.\n",
      "[I 2023-11-28 14:53:28,087] Trial 58 finished with value: 0.8289203361827454 and parameters: {'criterion': 'entropy', 'max_depth': 4, 'splitter': 'best', 'min_samples_split': 20, 'min_samples_leaf': 1}. Best is trial 53 with value: 0.4921341857625171.\n",
      "[I 2023-11-28 14:53:28,520] Trial 59 finished with value: 0.8566769628618633 and parameters: {'criterion': 'entropy', 'max_depth': 26, 'splitter': 'random', 'min_samples_split': 5, 'min_samples_leaf': 2}. Best is trial 53 with value: 0.4921341857625171.\n",
      "[I 2023-11-28 14:53:28,924] Trial 60 finished with value: 0.8143524172114072 and parameters: {'criterion': 'log_loss', 'max_depth': 7, 'splitter': 'random', 'min_samples_split': 4, 'min_samples_leaf': 2}. Best is trial 53 with value: 0.4921341857625171.\n",
      "[I 2023-11-28 14:53:29,329] Trial 61 finished with value: 0.5578047554055025 and parameters: {'criterion': 'entropy', 'max_depth': 3, 'splitter': 'random', 'min_samples_split': 7, 'min_samples_leaf': 1}. Best is trial 53 with value: 0.4921341857625171.\n",
      "[I 2023-11-28 14:53:29,746] Trial 62 finished with value: 0.6603835931326772 and parameters: {'criterion': 'entropy', 'max_depth': 4, 'splitter': 'random', 'min_samples_split': 3, 'min_samples_leaf': 1}. Best is trial 53 with value: 0.4921341857625171.\n",
      "[I 2023-11-28 14:53:30,140] Trial 63 finished with value: 0.5311112707420443 and parameters: {'criterion': 'entropy', 'max_depth': 3, 'splitter': 'random', 'min_samples_split': 5, 'min_samples_leaf': 1}. Best is trial 53 with value: 0.4921341857625171.\n",
      "[I 2023-11-28 14:53:30,548] Trial 64 finished with value: 0.7503483945118885 and parameters: {'criterion': 'entropy', 'max_depth': 5, 'splitter': 'random', 'min_samples_split': 6, 'min_samples_leaf': 2}. Best is trial 53 with value: 0.4921341857625171.\n",
      "[I 2023-11-28 14:53:30,978] Trial 65 finished with value: 0.8567631635658357 and parameters: {'criterion': 'entropy', 'max_depth': 16, 'splitter': 'random', 'min_samples_split': 5, 'min_samples_leaf': 3}. Best is trial 53 with value: 0.4921341857625171.\n"
     ]
    },
    {
     "name": "stderr",
     "output_type": "stream",
     "text": [
      "[I 2023-11-28 14:53:31,425] Trial 66 finished with value: 0.8000718339199769 and parameters: {'criterion': 'entropy', 'max_depth': 6, 'splitter': 'random', 'min_samples_split': 7, 'min_samples_leaf': 10}. Best is trial 53 with value: 0.4921341857625171.\n",
      "[I 2023-11-28 14:53:31,806] Trial 67 finished with value: 0.5129660225558509 and parameters: {'criterion': 'gini', 'max_depth': 3, 'splitter': 'random', 'min_samples_split': 2, 'min_samples_leaf': 1}. Best is trial 53 with value: 0.4921341857625171.\n",
      "[I 2023-11-28 14:53:32,216] Trial 68 finished with value: 0.6652539329071188 and parameters: {'criterion': 'gini', 'max_depth': 4, 'splitter': 'random', 'min_samples_split': 2, 'min_samples_leaf': 3}. Best is trial 53 with value: 0.4921341857625171.\n",
      "[I 2023-11-28 14:53:32,670] Trial 69 finished with value: 0.8484304288485023 and parameters: {'criterion': 'gini', 'max_depth': 5, 'splitter': 'best', 'min_samples_split': 3, 'min_samples_leaf': 4}. Best is trial 53 with value: 0.4921341857625171.\n",
      "[I 2023-11-28 14:53:33,079] Trial 70 finished with value: 0.854090941742691 and parameters: {'criterion': 'gini', 'max_depth': 8, 'splitter': 'random', 'min_samples_split': 4, 'min_samples_leaf': 1}. Best is trial 53 with value: 0.4921341857625171.\n",
      "[I 2023-11-28 14:53:33,474] Trial 71 finished with value: 0.5759643703756915 and parameters: {'criterion': 'gini', 'max_depth': 3, 'splitter': 'random', 'min_samples_split': 2, 'min_samples_leaf': 1}. Best is trial 53 with value: 0.4921341857625171.\n",
      "[I 2023-11-28 14:53:33,874] Trial 72 finished with value: 0.5786365921988363 and parameters: {'criterion': 'gini', 'max_depth': 3, 'splitter': 'random', 'min_samples_split': 3, 'min_samples_leaf': 1}. Best is trial 53 with value: 0.4921341857625171.\n",
      "[I 2023-11-28 14:53:34,274] Trial 73 finished with value: 0.710221966812729 and parameters: {'criterion': 'entropy', 'max_depth': 5, 'splitter': 'random', 'min_samples_split': 17, 'min_samples_leaf': 2}. Best is trial 53 with value: 0.4921341857625171.\n",
      "[I 2023-11-28 14:53:34,668] Trial 74 finished with value: 0.6532720350549529 and parameters: {'criterion': 'gini', 'max_depth': 4, 'splitter': 'random', 'min_samples_split': 4, 'min_samples_leaf': 2}. Best is trial 53 with value: 0.4921341857625171.\n",
      "[I 2023-11-28 14:53:35,074] Trial 75 finished with value: 0.5865095898283169 and parameters: {'criterion': 'log_loss', 'max_depth': 3, 'splitter': 'random', 'min_samples_split': 6, 'min_samples_leaf': 1}. Best is trial 53 with value: 0.4921341857625171.\n",
      "[I 2023-11-28 14:53:35,473] Trial 76 finished with value: 0.8189928884419222 and parameters: {'criterion': 'gini', 'max_depth': 6, 'splitter': 'random', 'min_samples_split': 9, 'min_samples_leaf': 1}. Best is trial 53 with value: 0.4921341857625171.\n",
      "[I 2023-11-28 14:53:35,851] Trial 77 finished with value: 0.6930249263702319 and parameters: {'criterion': 'entropy', 'max_depth': 4, 'splitter': 'random', 'min_samples_split': 5, 'min_samples_leaf': 1}. Best is trial 53 with value: 0.4921341857625171.\n",
      "[I 2023-11-28 14:53:36,233] Trial 78 finished with value: 0.5041160836146829 and parameters: {'criterion': 'gini', 'max_depth': 3, 'splitter': 'random', 'min_samples_split': 8, 'min_samples_leaf': 2}. Best is trial 53 with value: 0.4921341857625171.\n",
      "[I 2023-11-28 14:53:36,654] Trial 79 finished with value: 0.8566482292938726 and parameters: {'criterion': 'gini', 'max_depth': 22, 'splitter': 'best', 'min_samples_split': 8, 'min_samples_leaf': 4}. Best is trial 53 with value: 0.4921341857625171.\n",
      "[I 2023-11-28 14:53:37,057] Trial 80 finished with value: 0.8195244594497522 and parameters: {'criterion': 'gini', 'max_depth': 7, 'splitter': 'random', 'min_samples_split': 10, 'min_samples_leaf': 2}. Best is trial 53 with value: 0.4921341857625171.\n",
      "[I 2023-11-28 14:53:37,444] Trial 81 finished with value: 0.6190647223618992 and parameters: {'criterion': 'gini', 'max_depth': 3, 'splitter': 'random', 'min_samples_split': 7, 'min_samples_leaf': 3}. Best is trial 53 with value: 0.4921341857625171.\n",
      "[I 2023-11-28 14:53:37,818] Trial 82 finished with value: 0.5569714819337691 and parameters: {'criterion': 'gini', 'max_depth': 3, 'splitter': 'random', 'min_samples_split': 8, 'min_samples_leaf': 9}. Best is trial 53 with value: 0.4921341857625171.\n",
      "[I 2023-11-28 14:53:38,209] Trial 83 finished with value: 0.6859852022124846 and parameters: {'criterion': 'gini', 'max_depth': 5, 'splitter': 'random', 'min_samples_split': 6, 'min_samples_leaf': 2}. Best is trial 53 with value: 0.4921341857625171.\n",
      "[I 2023-11-28 14:53:38,628] Trial 84 finished with value: 0.6972343940808852 and parameters: {'criterion': 'gini', 'max_depth': 4, 'splitter': 'random', 'min_samples_split': 9, 'min_samples_leaf': 1}. Best is trial 53 with value: 0.4921341857625171.\n",
      "[I 2023-11-28 14:53:39,036] Trial 85 finished with value: 0.8078011637095036 and parameters: {'criterion': 'entropy', 'max_depth': 6, 'splitter': 'random', 'min_samples_split': 19, 'min_samples_leaf': 2}. Best is trial 53 with value: 0.4921341857625171.\n",
      "[I 2023-11-28 14:53:39,454] Trial 86 finished with value: 0.74665613102507 and parameters: {'criterion': 'gini', 'max_depth': 5, 'splitter': 'random', 'min_samples_split': 7, 'min_samples_leaf': 6}. Best is trial 53 with value: 0.4921341857625171.\n",
      "[I 2023-11-28 14:53:39,857] Trial 87 finished with value: 0.5940808849938941 and parameters: {'criterion': 'entropy', 'max_depth': 4, 'splitter': 'random', 'min_samples_split': 4, 'min_samples_leaf': 3}. Best is trial 53 with value: 0.4921341857625171.\n",
      "[I 2023-11-28 14:53:40,242] Trial 88 finished with value: 0.5463687953451619 and parameters: {'criterion': 'gini', 'max_depth': 3, 'splitter': 'random', 'min_samples_split': 6, 'min_samples_leaf': 5}. Best is trial 53 with value: 0.4921341857625171.\n",
      "[I 2023-11-28 14:53:40,640] Trial 89 finished with value: 0.5657639537389555 and parameters: {'criterion': 'log_loss', 'max_depth': 3, 'splitter': 'random', 'min_samples_split': 8, 'min_samples_leaf': 1}. Best is trial 53 with value: 0.4921341857625171.\n",
      "[I 2023-11-28 14:53:41,055] Trial 90 finished with value: 0.8567200632138496 and parameters: {'criterion': 'entropy', 'max_depth': 18, 'splitter': 'random', 'min_samples_split': 5, 'min_samples_leaf': 1}. Best is trial 53 with value: 0.4921341857625171.\n",
      "[I 2023-11-28 14:53:41,434] Trial 91 finished with value: 0.47067021047338553 and parameters: {'criterion': 'entropy', 'max_depth': 3, 'splitter': 'random', 'min_samples_split': 5, 'min_samples_leaf': 1}. Best is trial 91 with value: 0.47067021047338553.\n",
      "[I 2023-11-28 14:53:41,840] Trial 92 finished with value: 0.5993391279362115 and parameters: {'criterion': 'entropy', 'max_depth': 4, 'splitter': 'random', 'min_samples_split': 5, 'min_samples_leaf': 2}. Best is trial 91 with value: 0.47067021047338553.\n",
      "[I 2023-11-28 14:53:42,230] Trial 93 finished with value: 0.5703900581854752 and parameters: {'criterion': 'entropy', 'max_depth': 3, 'splitter': 'random', 'min_samples_split': 6, 'min_samples_leaf': 1}. Best is trial 91 with value: 0.47067021047338553.\n",
      "[I 2023-11-28 14:53:42,627] Trial 94 finished with value: 0.6306443502621939 and parameters: {'criterion': 'entropy', 'max_depth': 4, 'splitter': 'random', 'min_samples_split': 3, 'min_samples_leaf': 1}. Best is trial 91 with value: 0.47067021047338553.\n",
      "[I 2023-11-28 14:53:43,031] Trial 95 finished with value: 0.6937719991379929 and parameters: {'criterion': 'entropy', 'max_depth': 5, 'splitter': 'random', 'min_samples_split': 7, 'min_samples_leaf': 2}. Best is trial 91 with value: 0.47067021047338553.\n",
      "[I 2023-11-28 14:53:43,437] Trial 96 finished with value: 0.7765677753034983 and parameters: {'criterion': 'entropy', 'max_depth': 6, 'splitter': 'random', 'min_samples_split': 4, 'min_samples_leaf': 1}. Best is trial 91 with value: 0.47067021047338553.\n",
      "[I 2023-11-28 14:53:43,850] Trial 97 finished with value: 0.7192012068098557 and parameters: {'criterion': 'gini', 'max_depth': 3, 'splitter': 'best', 'min_samples_split': 8, 'min_samples_leaf': 5}. Best is trial 91 with value: 0.47067021047338553.\n",
      "[I 2023-11-28 14:53:44,287] Trial 98 finished with value: 0.85887508081316 and parameters: {'criterion': 'entropy', 'max_depth': 14, 'splitter': 'random', 'min_samples_split': 5, 'min_samples_leaf': 1}. Best is trial 91 with value: 0.47067021047338553.\n"
     ]
    },
    {
     "name": "stderr",
     "output_type": "stream",
     "text": [
      "[I 2023-11-28 14:53:44,722] Trial 99 finished with value: 0.7501903598879391 and parameters: {'criterion': 'gini', 'max_depth': 5, 'splitter': 'random', 'min_samples_split': 14, 'min_samples_leaf': 6}. Best is trial 91 with value: 0.47067021047338553.\n"
     ]
    },
    {
     "name": "stdout",
     "output_type": "stream",
     "text": [
      "{'criterion': 'entropy', 'max_depth': 3, 'splitter': 'random', 'min_samples_split': 5, 'min_samples_leaf': 1}\n",
      "Run time: 45.215s\n"
     ]
    }
   ],
   "source": [
    "# Record the start time\n",
    "start=time()\n",
    "\n",
    "# Create a dictionary to record the speed\n",
    "speed={}\n",
    "\n",
    "# Create the model\n",
    "model = CART\n",
    "\n",
    "# Define the objective function\n",
    "\"\"\"The objective function is a function that takes a set of hyperparameters as input and \n",
    "returns a value that represents the quality of the model. \"\"\"\n",
    "def objective(trial):\n",
    "    criterion = trial.suggest_categorical('criterion', ['gini', 'entropy', 'log_loss'])\n",
    "    max_depth = trial.suggest_int('max_depth', 3, 30)\n",
    "    splitter = trial.suggest_categorical('splitter', ['random', 'best'])\n",
    "    min_samples_split = trial.suggest_int('min_samples_split', 2, 20)\n",
    "    min_samples_leaf = trial.suggest_int('min_samples_leaf', 1, 10)\n",
    "\n",
    "    model.set_params(criterion=criterion, max_depth=max_depth, splitter=splitter,\n",
    "                     min_samples_split=min_samples_split, min_samples_leaf=min_samples_leaf)\n",
    "\n",
    "    # Fit the model on the training data\n",
    "    model.fit(X_train_scaled, y_train)\n",
    "\n",
    "    # Evaluate the model using cross-validation\n",
    "    score = cross_val_score(model, X_train_scaled, y_train, n_jobs=-1, cv=5).mean()\n",
    "\n",
    "    return score\n",
    "\n",
    "\n",
    "# Run the optimization\n",
    "\n",
    "study = optuna.create_study()\n",
    "\n",
    "\"\"\"\n",
    "The value of n_trials is the number of times that Optuna will try \n",
    "to find a better set of hyperparameters. In our code, we have set n_trials to 100. \n",
    "This means that Optuna will try 100 different combinations of hyperparameters to \n",
    "find the best set of hyperparameters.\n",
    "The value of n_trials is a trade-off between the amount of time that you want to \n",
    "spend optimizing the hyperparameters and the quality of the results. \n",
    "If you set n_trials to a high value, Optuna will be able to search a wider range \n",
    "of hyperparameters and find a better set of hyperparameters. \n",
    "However, it will also take longer to run the optimization.\n",
    "\"\"\"\n",
    "study.optimize(objective, n_trials=100)\n",
    "\n",
    "# Print the best parameters\n",
    "print(study.best_params)\n",
    "\n",
    "# Record the time needed to run and accuracy in the respective dictionaries\n",
    "speed['GradientBoosting'] = np.round(time()-start, 3)\n",
    "\n",
    "# Print the results - mean accuracy, standard deviation and run time\n",
    "print(f\"Run time: {speed['GradientBoosting']}s\")\n"
   ]
  },
  {
   "cell_type": "code",
   "execution_count": 101,
   "id": "0fd11db7",
   "metadata": {},
   "outputs": [],
   "source": [
    "best_params = study.best_params"
   ]
  },
  {
   "cell_type": "code",
   "execution_count": 102,
   "id": "3bf355c5",
   "metadata": {},
   "outputs": [
    {
     "data": {
      "text/html": [
       "<style>#sk-container-id-3 {color: black;background-color: white;}#sk-container-id-3 pre{padding: 0;}#sk-container-id-3 div.sk-toggleable {background-color: white;}#sk-container-id-3 label.sk-toggleable__label {cursor: pointer;display: block;width: 100%;margin-bottom: 0;padding: 0.3em;box-sizing: border-box;text-align: center;}#sk-container-id-3 label.sk-toggleable__label-arrow:before {content: \"▸\";float: left;margin-right: 0.25em;color: #696969;}#sk-container-id-3 label.sk-toggleable__label-arrow:hover:before {color: black;}#sk-container-id-3 div.sk-estimator:hover label.sk-toggleable__label-arrow:before {color: black;}#sk-container-id-3 div.sk-toggleable__content {max-height: 0;max-width: 0;overflow: hidden;text-align: left;background-color: #f0f8ff;}#sk-container-id-3 div.sk-toggleable__content pre {margin: 0.2em;color: black;border-radius: 0.25em;background-color: #f0f8ff;}#sk-container-id-3 input.sk-toggleable__control:checked~div.sk-toggleable__content {max-height: 200px;max-width: 100%;overflow: auto;}#sk-container-id-3 input.sk-toggleable__control:checked~label.sk-toggleable__label-arrow:before {content: \"▾\";}#sk-container-id-3 div.sk-estimator input.sk-toggleable__control:checked~label.sk-toggleable__label {background-color: #d4ebff;}#sk-container-id-3 div.sk-label input.sk-toggleable__control:checked~label.sk-toggleable__label {background-color: #d4ebff;}#sk-container-id-3 input.sk-hidden--visually {border: 0;clip: rect(1px 1px 1px 1px);clip: rect(1px, 1px, 1px, 1px);height: 1px;margin: -1px;overflow: hidden;padding: 0;position: absolute;width: 1px;}#sk-container-id-3 div.sk-estimator {font-family: monospace;background-color: #f0f8ff;border: 1px dotted black;border-radius: 0.25em;box-sizing: border-box;margin-bottom: 0.5em;}#sk-container-id-3 div.sk-estimator:hover {background-color: #d4ebff;}#sk-container-id-3 div.sk-parallel-item::after {content: \"\";width: 100%;border-bottom: 1px solid gray;flex-grow: 1;}#sk-container-id-3 div.sk-label:hover label.sk-toggleable__label {background-color: #d4ebff;}#sk-container-id-3 div.sk-serial::before {content: \"\";position: absolute;border-left: 1px solid gray;box-sizing: border-box;top: 0;bottom: 0;left: 50%;z-index: 0;}#sk-container-id-3 div.sk-serial {display: flex;flex-direction: column;align-items: center;background-color: white;padding-right: 0.2em;padding-left: 0.2em;position: relative;}#sk-container-id-3 div.sk-item {position: relative;z-index: 1;}#sk-container-id-3 div.sk-parallel {display: flex;align-items: stretch;justify-content: center;background-color: white;position: relative;}#sk-container-id-3 div.sk-item::before, #sk-container-id-3 div.sk-parallel-item::before {content: \"\";position: absolute;border-left: 1px solid gray;box-sizing: border-box;top: 0;bottom: 0;left: 50%;z-index: -1;}#sk-container-id-3 div.sk-parallel-item {display: flex;flex-direction: column;z-index: 1;position: relative;background-color: white;}#sk-container-id-3 div.sk-parallel-item:first-child::after {align-self: flex-end;width: 50%;}#sk-container-id-3 div.sk-parallel-item:last-child::after {align-self: flex-start;width: 50%;}#sk-container-id-3 div.sk-parallel-item:only-child::after {width: 0;}#sk-container-id-3 div.sk-dashed-wrapped {border: 1px dashed gray;margin: 0 0.4em 0.5em 0.4em;box-sizing: border-box;padding-bottom: 0.4em;background-color: white;}#sk-container-id-3 div.sk-label label {font-family: monospace;font-weight: bold;display: inline-block;line-height: 1.2em;}#sk-container-id-3 div.sk-label-container {text-align: center;}#sk-container-id-3 div.sk-container {/* jupyter's `normalize.less` sets `[hidden] { display: none; }` but bootstrap.min.css set `[hidden] { display: none !important; }` so we also need the `!important` here to be able to override the default hidden behavior on the sphinx rendered scikit-learn.org. See: https://github.com/scikit-learn/scikit-learn/issues/21755 */display: inline-block !important;position: relative;}#sk-container-id-3 div.sk-text-repr-fallback {display: none;}</style><div id=\"sk-container-id-3\" class=\"sk-top-container\"><div class=\"sk-text-repr-fallback\"><pre>DecisionTreeClassifier(criterion=&#x27;entropy&#x27;, max_depth=3, min_samples_split=5,\n",
       "                       splitter=&#x27;random&#x27;)</pre><b>In a Jupyter environment, please rerun this cell to show the HTML representation or trust the notebook. <br />On GitHub, the HTML representation is unable to render, please try loading this page with nbviewer.org.</b></div><div class=\"sk-container\" hidden><div class=\"sk-item\"><div class=\"sk-estimator sk-toggleable\"><input class=\"sk-toggleable__control sk-hidden--visually\" id=\"sk-estimator-id-3\" type=\"checkbox\" checked><label for=\"sk-estimator-id-3\" class=\"sk-toggleable__label sk-toggleable__label-arrow\">DecisionTreeClassifier</label><div class=\"sk-toggleable__content\"><pre>DecisionTreeClassifier(criterion=&#x27;entropy&#x27;, max_depth=3, min_samples_split=5,\n",
       "                       splitter=&#x27;random&#x27;)</pre></div></div></div></div></div>"
      ],
      "text/plain": [
       "DecisionTreeClassifier(criterion='entropy', max_depth=3, min_samples_split=5,\n",
       "                       splitter='random')"
      ]
     },
     "execution_count": 102,
     "metadata": {},
     "output_type": "execute_result"
    }
   ],
   "source": [
    "model.set_params(**best_params)"
   ]
  },
  {
   "cell_type": "code",
   "execution_count": 103,
   "id": "6e5fa465",
   "metadata": {
    "scrolled": true
   },
   "outputs": [
    {
     "data": {
      "text/html": [
       "<style>#sk-container-id-4 {color: black;background-color: white;}#sk-container-id-4 pre{padding: 0;}#sk-container-id-4 div.sk-toggleable {background-color: white;}#sk-container-id-4 label.sk-toggleable__label {cursor: pointer;display: block;width: 100%;margin-bottom: 0;padding: 0.3em;box-sizing: border-box;text-align: center;}#sk-container-id-4 label.sk-toggleable__label-arrow:before {content: \"▸\";float: left;margin-right: 0.25em;color: #696969;}#sk-container-id-4 label.sk-toggleable__label-arrow:hover:before {color: black;}#sk-container-id-4 div.sk-estimator:hover label.sk-toggleable__label-arrow:before {color: black;}#sk-container-id-4 div.sk-toggleable__content {max-height: 0;max-width: 0;overflow: hidden;text-align: left;background-color: #f0f8ff;}#sk-container-id-4 div.sk-toggleable__content pre {margin: 0.2em;color: black;border-radius: 0.25em;background-color: #f0f8ff;}#sk-container-id-4 input.sk-toggleable__control:checked~div.sk-toggleable__content {max-height: 200px;max-width: 100%;overflow: auto;}#sk-container-id-4 input.sk-toggleable__control:checked~label.sk-toggleable__label-arrow:before {content: \"▾\";}#sk-container-id-4 div.sk-estimator input.sk-toggleable__control:checked~label.sk-toggleable__label {background-color: #d4ebff;}#sk-container-id-4 div.sk-label input.sk-toggleable__control:checked~label.sk-toggleable__label {background-color: #d4ebff;}#sk-container-id-4 input.sk-hidden--visually {border: 0;clip: rect(1px 1px 1px 1px);clip: rect(1px, 1px, 1px, 1px);height: 1px;margin: -1px;overflow: hidden;padding: 0;position: absolute;width: 1px;}#sk-container-id-4 div.sk-estimator {font-family: monospace;background-color: #f0f8ff;border: 1px dotted black;border-radius: 0.25em;box-sizing: border-box;margin-bottom: 0.5em;}#sk-container-id-4 div.sk-estimator:hover {background-color: #d4ebff;}#sk-container-id-4 div.sk-parallel-item::after {content: \"\";width: 100%;border-bottom: 1px solid gray;flex-grow: 1;}#sk-container-id-4 div.sk-label:hover label.sk-toggleable__label {background-color: #d4ebff;}#sk-container-id-4 div.sk-serial::before {content: \"\";position: absolute;border-left: 1px solid gray;box-sizing: border-box;top: 0;bottom: 0;left: 50%;z-index: 0;}#sk-container-id-4 div.sk-serial {display: flex;flex-direction: column;align-items: center;background-color: white;padding-right: 0.2em;padding-left: 0.2em;position: relative;}#sk-container-id-4 div.sk-item {position: relative;z-index: 1;}#sk-container-id-4 div.sk-parallel {display: flex;align-items: stretch;justify-content: center;background-color: white;position: relative;}#sk-container-id-4 div.sk-item::before, #sk-container-id-4 div.sk-parallel-item::before {content: \"\";position: absolute;border-left: 1px solid gray;box-sizing: border-box;top: 0;bottom: 0;left: 50%;z-index: -1;}#sk-container-id-4 div.sk-parallel-item {display: flex;flex-direction: column;z-index: 1;position: relative;background-color: white;}#sk-container-id-4 div.sk-parallel-item:first-child::after {align-self: flex-end;width: 50%;}#sk-container-id-4 div.sk-parallel-item:last-child::after {align-self: flex-start;width: 50%;}#sk-container-id-4 div.sk-parallel-item:only-child::after {width: 0;}#sk-container-id-4 div.sk-dashed-wrapped {border: 1px dashed gray;margin: 0 0.4em 0.5em 0.4em;box-sizing: border-box;padding-bottom: 0.4em;background-color: white;}#sk-container-id-4 div.sk-label label {font-family: monospace;font-weight: bold;display: inline-block;line-height: 1.2em;}#sk-container-id-4 div.sk-label-container {text-align: center;}#sk-container-id-4 div.sk-container {/* jupyter's `normalize.less` sets `[hidden] { display: none; }` but bootstrap.min.css set `[hidden] { display: none !important; }` so we also need the `!important` here to be able to override the default hidden behavior on the sphinx rendered scikit-learn.org. See: https://github.com/scikit-learn/scikit-learn/issues/21755 */display: inline-block !important;position: relative;}#sk-container-id-4 div.sk-text-repr-fallback {display: none;}</style><div id=\"sk-container-id-4\" class=\"sk-top-container\"><div class=\"sk-text-repr-fallback\"><pre>DecisionTreeClassifier(criterion=&#x27;entropy&#x27;, max_depth=3, min_samples_split=5,\n",
       "                       splitter=&#x27;random&#x27;)</pre><b>In a Jupyter environment, please rerun this cell to show the HTML representation or trust the notebook. <br />On GitHub, the HTML representation is unable to render, please try loading this page with nbviewer.org.</b></div><div class=\"sk-container\" hidden><div class=\"sk-item\"><div class=\"sk-estimator sk-toggleable\"><input class=\"sk-toggleable__control sk-hidden--visually\" id=\"sk-estimator-id-4\" type=\"checkbox\" checked><label for=\"sk-estimator-id-4\" class=\"sk-toggleable__label sk-toggleable__label-arrow\">DecisionTreeClassifier</label><div class=\"sk-toggleable__content\"><pre>DecisionTreeClassifier(criterion=&#x27;entropy&#x27;, max_depth=3, min_samples_split=5,\n",
       "                       splitter=&#x27;random&#x27;)</pre></div></div></div></div></div>"
      ],
      "text/plain": [
       "DecisionTreeClassifier(criterion='entropy', max_depth=3, min_samples_split=5,\n",
       "                       splitter='random')"
      ]
     },
     "execution_count": 103,
     "metadata": {},
     "output_type": "execute_result"
    }
   ],
   "source": [
    "model.fit(X_train_scaled,y_train)"
   ]
  },
  {
   "cell_type": "code",
   "execution_count": 104,
   "id": "6d73f139",
   "metadata": {},
   "outputs": [
    {
     "name": "stderr",
     "output_type": "stream",
     "text": [
      "C:\\Users\\Administrator\\anaconda3\\envs\\MLDV\\Lib\\site-packages\\sklearn\\metrics\\_classification.py:1344: UndefinedMetricWarning: Precision and F-score are ill-defined and being set to 0.0 in labels with no predicted samples. Use `zero_division` parameter to control this behavior.\n",
      "  _warn_prf(average, modifier, msg_start, len(result))\n",
      "C:\\Users\\Administrator\\anaconda3\\envs\\MLDV\\Lib\\site-packages\\sklearn\\metrics\\_classification.py:1344: UndefinedMetricWarning: Precision and F-score are ill-defined and being set to 0.0 in labels with no predicted samples. Use `zero_division` parameter to control this behavior.\n",
      "  _warn_prf(average, modifier, msg_start, len(result))\n"
     ]
    },
    {
     "name": "stdout",
     "output_type": "stream",
     "text": [
      "CART:\n",
      "                  precision    recall  f1-score   support\n",
      "\n",
      "          Books       0.00      0.00      0.00      3496\n",
      "       Clothing       0.70      0.60      0.65     24092\n",
      "      Cosmetics       0.24      1.00      0.39     10634\n",
      "Food & Beverage       0.00      0.00      0.00     10373\n",
      "          Shoes       0.67      0.20      0.31      7019\n",
      "       Souvenir       0.00      0.00      0.00      3428\n",
      "     Technology       1.00      0.60      0.75      3506\n",
      "           Toys       0.00      0.00      0.00      7057\n",
      "\n",
      "       accuracy                           0.41     69605\n",
      "      macro avg       0.33      0.30      0.26     69605\n",
      "   weighted avg       0.40      0.41      0.35     69605\n",
      "\n"
     ]
    },
    {
     "name": "stderr",
     "output_type": "stream",
     "text": [
      "C:\\Users\\Administrator\\anaconda3\\envs\\MLDV\\Lib\\site-packages\\sklearn\\metrics\\_classification.py:1344: UndefinedMetricWarning: Precision and F-score are ill-defined and being set to 0.0 in labels with no predicted samples. Use `zero_division` parameter to control this behavior.\n",
      "  _warn_prf(average, modifier, msg_start, len(result))\n"
     ]
    }
   ],
   "source": [
    "print('CART:\\n',classification_report(y_train, model.predict(X_train_scaled)))"
   ]
  },
  {
   "cell_type": "code",
   "execution_count": 105,
   "id": "fa4dd49f",
   "metadata": {
    "scrolled": true
   },
   "outputs": [
    {
     "name": "stderr",
     "output_type": "stream",
     "text": [
      "C:\\Users\\Administrator\\anaconda3\\envs\\MLDV\\Lib\\site-packages\\sklearn\\metrics\\_classification.py:1344: UndefinedMetricWarning: Precision and F-score are ill-defined and being set to 0.0 in labels with no predicted samples. Use `zero_division` parameter to control this behavior.\n",
      "  _warn_prf(average, modifier, msg_start, len(result))\n"
     ]
    },
    {
     "name": "stdout",
     "output_type": "stream",
     "text": [
      "CART:\n",
      "                  precision    recall  f1-score   support\n",
      "\n",
      "          Books       0.00      0.00      0.00      1483\n",
      "       Clothing       0.70      0.59      0.64     10391\n",
      "      Cosmetics       0.23      1.00      0.38      4460\n",
      "Food & Beverage       0.00      0.00      0.00      4401\n",
      "          Shoes       0.67      0.20      0.31      3013\n",
      "       Souvenir       0.00      0.00      0.00      1567\n",
      "     Technology       1.00      0.61      0.75      1488\n",
      "           Toys       0.00      0.00      0.00      3029\n",
      "\n",
      "       accuracy                           0.41     29832\n",
      "      macro avg       0.32      0.30      0.26     29832\n",
      "   weighted avg       0.40      0.41      0.35     29832\n",
      "\n"
     ]
    },
    {
     "name": "stderr",
     "output_type": "stream",
     "text": [
      "C:\\Users\\Administrator\\anaconda3\\envs\\MLDV\\Lib\\site-packages\\sklearn\\metrics\\_classification.py:1344: UndefinedMetricWarning: Precision and F-score are ill-defined and being set to 0.0 in labels with no predicted samples. Use `zero_division` parameter to control this behavior.\n",
      "  _warn_prf(average, modifier, msg_start, len(result))\n",
      "C:\\Users\\Administrator\\anaconda3\\envs\\MLDV\\Lib\\site-packages\\sklearn\\metrics\\_classification.py:1344: UndefinedMetricWarning: Precision and F-score are ill-defined and being set to 0.0 in labels with no predicted samples. Use `zero_division` parameter to control this behavior.\n",
      "  _warn_prf(average, modifier, msg_start, len(result))\n"
     ]
    }
   ],
   "source": [
    "print('CART:\\n',classification_report(y_test, model.predict(X_test_scaled)))"
   ]
  },
  {
   "cell_type": "code",
   "execution_count": 106,
   "id": "c5055116",
   "metadata": {},
   "outputs": [
    {
     "data": {
      "text/plain": [
       "['model_CART_classifier_hyperParameterTuning.pkl']"
      ]
     },
     "execution_count": 106,
     "metadata": {},
     "output_type": "execute_result"
    }
   ],
   "source": [
    "import joblib\n",
    "joblib.dump(CART,\"model_CART_classifier_hyperParameterTuning.pkl\")\n"
   ]
  },
  {
   "cell_type": "markdown",
   "id": "8c9b4661",
   "metadata": {},
   "source": [
    "## After performing hyper parameter tuning, our model turned out worse so we will use the model before performing hyperparameter tuning"
   ]
  },
  {
   "cell_type": "markdown",
   "id": "01e48db6",
   "metadata": {},
   "source": [
    "# The End"
   ]
  }
 ],
 "metadata": {
  "kernelspec": {
   "display_name": "Python 3 (ipykernel)",
   "language": "python",
   "name": "python3"
  },
  "language_info": {
   "codemirror_mode": {
    "name": "ipython",
    "version": 3
   },
   "file_extension": ".py",
   "mimetype": "text/x-python",
   "name": "python",
   "nbconvert_exporter": "python",
   "pygments_lexer": "ipython3",
   "version": "3.11.5"
  }
 },
 "nbformat": 4,
 "nbformat_minor": 5
}
