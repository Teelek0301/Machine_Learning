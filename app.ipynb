{
 "cells": [
  {
   "cell_type": "code",
   "execution_count": 3,
   "id": "6ac469fb-17da-495a-82be-371e18147a19",
   "metadata": {
    "tags": []
   },
   "outputs": [],
   "source": [
    "# Import the libaries\n",
    "import numpy as np\n",
    "from flask import Flask, request, render_template\n",
    "import joblib\n",
    "import pickle"
   ]
  },
  {
   "cell_type": "code",
   "execution_count": 4,
   "id": "0a20ee83-a13a-43c1-a31b-e63fdc82aa10",
   "metadata": {
    "tags": []
   },
   "outputs": [],
   "source": [
    "# Create the Flask app and load the trained model\n",
    "app = Flask (__name__)\n",
    "model = joblib.load('model_CART_classifier_with_feature_selection.pkl')\n",
    "scaler = joblib.load ('MinMax_scaler_model.joblib')"
   ]
  },
  {
   "cell_type": "code",
   "execution_count": 5,
   "id": "5a106073-80bf-4b20-84d7-0a2f1e765d51",
   "metadata": {
    "tags": []
   },
   "outputs": [],
   "source": [
    "@app.route('/')\n",
    "def home ():\n",
    "    return render_template('index.html')"
   ]
  },
  {
   "cell_type": "code",
   "execution_count": 6,
   "id": "300ae90e-2403-449b-8b26-4bbb84de6492",
   "metadata": {
    "tags": []
   },
   "outputs": [],
   "source": [
    "@app.route('/predict', methods = ['POST'])\n",
    "def predict():\n",
    "    form_data = [float (x) for x in request.form.values()]\n",
    "\n",
    "    features = scaler.transform([np.array(form_data)])\n",
    "\n",
    "    prediction = model.predict(features)\n",
    "    \n",
    "    return render_template('index.html', Category_Prediction = 'Category should be {}'.format(prediction[0]))\n",
    "    "
   ]
  },
  {
   "cell_type": "code",
   "execution_count": 7,
   "id": "8f8d1967-628d-4e6d-8e5e-4c1c1f7504c8",
   "metadata": {
    "tags": []
   },
   "outputs": [
    {
     "name": "stdout",
     "output_type": "stream",
     "text": [
      " * Serving Flask app '__main__'\n",
      " * Debug mode: off\n"
     ]
    },
    {
     "name": "stderr",
     "output_type": "stream",
     "text": [
      "WARNING: This is a development server. Do not use it in a production deployment. Use a production WSGI server instead.\n",
      " * Running on http://127.0.0.1:5000\n",
      "Press CTRL+C to quit\n",
      "127.0.0.1 - - [28/Nov/2023 15:11:20] \"GET / HTTP/1.1\" 200 -\n",
      "127.0.0.1 - - [28/Nov/2023 15:11:20] \"GET /favicon.ico HTTP/1.1\" 404 -\n",
      "127.0.0.1 - - [28/Nov/2023 15:12:10] \"POST /predict HTTP/1.1\" 200 -\n"
     ]
    }
   ],
   "source": [
    "if __name__ == \"__main__\":\n",
    "    app.run(debug=False)"
   ]
  },
  {
   "cell_type": "code",
   "execution_count": null,
   "id": "018dd8fe-32a2-461a-9ffa-add45992f402",
   "metadata": {},
   "outputs": [],
   "source": []
  }
 ],
 "metadata": {
  "kernelspec": {
   "display_name": "Python 3 (ipykernel)",
   "language": "python",
   "name": "python3"
  },
  "language_info": {
   "codemirror_mode": {
    "name": "ipython",
    "version": 3
   },
   "file_extension": ".py",
   "mimetype": "text/x-python",
   "name": "python",
   "nbconvert_exporter": "python",
   "pygments_lexer": "ipython3",
   "version": "3.11.5"
  }
 },
 "nbformat": 4,
 "nbformat_minor": 5
}
